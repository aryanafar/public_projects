{
 "cells": [
  {
   "cell_type": "markdown",
   "id": "0bc702c9",
   "metadata": {},
   "source": [
    "# Weighted Shortest Paths Algorithm\n",
    "### This algorithm will allow us to determine the best route for inventory to take from the BART stop closest to the AGM distribution center (call it BART stop A) to the designated BART stop for customers to directly pick-up or for trucker's to pick-up for truck-delivery (call it BART stop B)."
   ]
  },
  {
   "cell_type": "markdown",
   "id": "a95e1626",
   "metadata": {},
   "source": [
    "## First we import the relevant graph libraries."
   ]
  },
  {
   "cell_type": "code",
   "execution_count": 26,
   "id": "4da9803e",
   "metadata": {},
   "outputs": [],
   "source": [
    "import neo4j\n",
    "import csv\n",
    "import math\n",
    "import numpy as np\n",
    "import pandas as pd\n",
    "import psycopg2"
   ]
  },
  {
   "cell_type": "markdown",
   "id": "8bdf6e6a",
   "metadata": {},
   "source": [
    "## Then we run our supporting code for appropriate set-up."
   ]
  },
  {
   "cell_type": "code",
   "execution_count": 27,
   "id": "6239b8aa",
   "metadata": {},
   "outputs": [],
   "source": [
    "connection = psycopg2.connect(\n",
    "    user = \"postgres\",\n",
    "    password = \"ucb\",\n",
    "    host = \"postgres\",\n",
    "    port = \"5432\",\n",
    "    database = \"postgres\"\n",
    ")\n",
    "cursor = connection.cursor()"
   ]
  },
  {
   "cell_type": "code",
   "execution_count": 28,
   "id": "f09f4d04",
   "metadata": {},
   "outputs": [],
   "source": [
    "driver = neo4j.GraphDatabase.driver(uri=\"neo4j://neo4j:7687\", auth=(\"neo4j\",\"ucb_mids_w205\"))"
   ]
  },
  {
   "cell_type": "code",
   "execution_count": 29,
   "id": "a2ca84c4",
   "metadata": {},
   "outputs": [],
   "source": [
    "session = driver.session(database=\"neo4j\")\n"
   ]
  },
  {
   "cell_type": "code",
   "execution_count": 30,
   "id": "611b45e5",
   "metadata": {},
   "outputs": [],
   "source": [
    "def my_neo4j_wipe_out_database():\n",
    "    \"wipe out database by deleting all nodes and relationships\"\n",
    "    \n",
    "    query = \"match (node)-[relationship]->() delete node, relationship\"\n",
    "    session.run(query)\n",
    "    \n",
    "    query = \"match (node) delete node\"\n",
    "    session.run(query)\n",
    "def my_neo4j_run_query_pandas(query, **kwargs):\n",
    "    \"run a query and return the results in a pandas dataframe\"\n",
    "    \n",
    "    result = session.run(query, **kwargs)\n",
    "    \n",
    "    df = pd.DataFrame([r.values() for r in result], columns=result.keys())\n",
    "    \n",
    "    return df\n",
    "def my_neo4j_number_nodes_relationships():\n",
    "    \"print the number of nodes and relationships\"\n",
    "   \n",
    "    \n",
    "    query = \"\"\"\n",
    "        match (n) \n",
    "        return n.name as node_name, labels(n) as labels\n",
    "        order by n.name\n",
    "    \"\"\"\n",
    "    \n",
    "    df = my_neo4j_run_query_pandas(query)\n",
    "    \n",
    "    number_nodes = df.shape[0]\n",
    "    \n",
    "    \n",
    "    query = \"\"\"\n",
    "        match (n1)-[r]->(n2) \n",
    "        return n1.name as node_name_1, labels(n1) as node_1_labels, \n",
    "            type(r) as relationship_type, n2.name as node_name_2, labels(n2) as node_2_labels\n",
    "        order by node_name_1, node_name_2\n",
    "    \"\"\"\n",
    "    \n",
    "    df = my_neo4j_run_query_pandas(query)\n",
    "    \n",
    "    number_relationships = df.shape[0]\n",
    "    \n",
    "    print(\"-------------------------\")\n",
    "    print(\"  Nodes:\", number_nodes)\n",
    "    print(\"  Relationships:\", number_relationships)\n",
    "    print(\"-------------------------\")\n",
    "def my_neo4j_create_node(station_name):\n",
    "    \"create a node with label Station\"\n",
    "    \n",
    "    query = \"\"\"\n",
    "    \n",
    "    CREATE (:Station {name: $station_name})\n",
    "    \n",
    "    \"\"\"\n",
    "    \n",
    "    session.run(query, station_name=station_name)\n",
    "    \n",
    "def my_neo4j_create_relationship_one_way(from_station, to_station, weight):\n",
    "    \"create a relationship one way between two stations with a weight\"\n",
    "    \n",
    "    query = \"\"\"\n",
    "    \n",
    "    MATCH (from:Station), \n",
    "          (to:Station)\n",
    "    WHERE from.name = $from_station and to.name = $to_station\n",
    "    CREATE (from)-[:LINK {weight: $weight}]->(to)\n",
    "    \n",
    "    \"\"\"\n",
    "    \n",
    "    session.run(query, from_station=from_station, to_station=to_station, weight=weight)\n",
    "    \n",
    "def my_neo4j_create_relationship_two_way(from_station, to_station, weight):\n",
    "    \"create relationships two way between two stations with a weight\"\n",
    "    \n",
    "    query = \"\"\"\n",
    "    \n",
    "    MATCH (from:Station), \n",
    "          (to:Station)\n",
    "    WHERE from.name = $from_station and to.name = $to_station\n",
    "    CREATE (from)-[:LINK {weight: $weight}]->(to),\n",
    "           (to)-[:LINK {weight: $weight}]->(from)\n",
    "    \n",
    "    \"\"\"\n",
    "    \n",
    "    session.run(query, from_station=from_station, to_station=to_station, weight=weight)\n",
    "    \n",
    "def my_neo4j_shortest_path(from_station, to_station):\n",
    "    \"given a from station and to station, run and print the shortest path\"\n",
    "    \n",
    "    query = \"CALL gds.graph.drop('ds_graph', false)\"\n",
    "    session.run(query)\n",
    "\n",
    "    query = \"CALL gds.graph.project('ds_graph', 'Station', 'LINK', {relationshipProperties: 'weight'})\"\n",
    "    session.run(query)\n",
    "\n",
    "    query = \"\"\"\n",
    "\n",
    "    MATCH (source:Station {name: $source}), (target:Station {name: $target})\n",
    "    CALL gds.shortestPath.dijkstra.stream(\n",
    "        'ds_graph', \n",
    "        { sourceNode: source, \n",
    "          targetNode: target, \n",
    "          relationshipWeightProperty: 'weight'\n",
    "        }\n",
    "    )\n",
    "    YIELD index, sourceNode, targetNode, totalCost, nodeIds, costs, path\n",
    "    RETURN\n",
    "        gds.util.asNode(sourceNode).name AS from,\n",
    "        gds.util.asNode(targetNode).name AS to,\n",
    "        totalCost,\n",
    "        [nodeId IN nodeIds | gds.util.asNode(nodeId).name] AS nodes,\n",
    "        costs\n",
    "    ORDER BY index\n",
    "\n",
    "    \"\"\"\n",
    "\n",
    "    result = session.run(query, source=from_station, target=to_station)\n",
    "    \n",
    "    for r in result:\n",
    "        \n",
    "        total_cost = int(r['totalCost'])\n",
    "        \n",
    "        print(\"\\n--------------------------------\")\n",
    "        print(\"   Total Cost: \", total_cost)\n",
    "        print(\"   Minutes: \", round(total_cost / 60.0,1))\n",
    "        print(\"--------------------------------\")\n",
    "        \n",
    "        nodes = r['nodes']\n",
    "        costs = r['costs']\n",
    "        \n",
    "        i = 0\n",
    "        previous = 0\n",
    "        \n",
    "        for n in nodes:\n",
    "            \n",
    "            print(n + \", \" + str(int(costs[i]) - previous)  + \", \" + str(int(costs[i])))\n",
    "            \n",
    "            previous = int(costs[i])\n",
    "            i += 1\n",
    "    "
   ]
  },
  {
   "cell_type": "markdown",
   "id": "f68da796",
   "metadata": {},
   "source": [
    "## We now wipe out the neo4j database and check the number of nodes and relationship to ensure they are both 0."
   ]
  },
  {
   "cell_type": "code",
   "execution_count": 31,
   "id": "e973c74f",
   "metadata": {},
   "outputs": [],
   "source": [
    "my_neo4j_wipe_out_database()"
   ]
  },
  {
   "cell_type": "code",
   "execution_count": 32,
   "id": "5db1c848",
   "metadata": {},
   "outputs": [
    {
     "name": "stdout",
     "output_type": "stream",
     "text": [
      "-------------------------\n",
      "  Nodes: 0\n",
      "  Relationships: 0\n",
      "-------------------------\n"
     ]
    }
   ],
   "source": [
    "my_neo4j_number_nodes_relationships()"
   ]
  },
  {
   "cell_type": "markdown",
   "id": "0f2d22b9",
   "metadata": {},
   "source": [
    "## These next queries and function calls  will construct our graph."
   ]
  },
  {
   "cell_type": "markdown",
   "id": "5866a956",
   "metadata": {},
   "source": [
    "### We first create  2 nodes for each station: depart {station_name} and arrive {station_name}."
   ]
  },
  {
   "cell_type": "code",
   "execution_count": 33,
   "id": "6df7288f",
   "metadata": {},
   "outputs": [],
   "source": [
    "connection.rollback()\n",
    "\n",
    "query = \"\"\"\n",
    "\n",
    "select station\n",
    "from stations\n",
    "order by station\n",
    "\n",
    "\"\"\"\n",
    "\n",
    "cursor.execute(query)\n",
    "\n",
    "connection.rollback()\n",
    "\n",
    "rows = cursor.fetchall()\n",
    "\n",
    "for row in rows:\n",
    "    \n",
    "    station = row[0]\n",
    "    \n",
    "    my_neo4j_create_node('depart ' + station)\n",
    "    my_neo4j_create_node('arrive ' + station)\n",
    "    "
   ]
  },
  {
   "cell_type": "markdown",
   "id": "966d0600",
   "metadata": {},
   "source": [
    "### Then we add in line nodes for each station (e.g. blue West Oakland). We connect for each station, we connect each of the line nodes and the departure and arrival nodes, and assign the connections a weight 0."
   ]
  },
  {
   "cell_type": "code",
   "execution_count": 34,
   "id": "f894d929",
   "metadata": {},
   "outputs": [],
   "source": [
    "connection.rollback()\n",
    "\n",
    "query = \"\"\"\n",
    "\n",
    "select station, line\n",
    "from lines\n",
    "order by station, line\n",
    "\n",
    "\"\"\"\n",
    "\n",
    "cursor.execute(query)\n",
    "\n",
    "connection.rollback()\n",
    "\n",
    "rows = cursor.fetchall()\n",
    "\n",
    "for row in rows:\n",
    "    \n",
    "    station = row[0]\n",
    "    line = row[1]\n",
    "    \n",
    "    depart = 'depart ' + station\n",
    "    arrive = 'arrive ' + station\n",
    "    line_station = line + ' ' + station\n",
    "    \n",
    "    my_neo4j_create_node(line_station)\n",
    "    my_neo4j_create_relationship_one_way(depart, line_station, 0)\n",
    "    my_neo4j_create_relationship_one_way(line_station, arrive, 0)\n",
    "    "
   ]
  },
  {
   "cell_type": "markdown",
   "id": "5f4c3c96",
   "metadata": {},
   "source": [
    "### Next, we create connections between lines of the same station to represent possible transfers. We weight these connections by the time it takes for a transfer between those two lines at that specific station."
   ]
  },
  {
   "cell_type": "code",
   "execution_count": 35,
   "id": "774d65d9",
   "metadata": {},
   "outputs": [],
   "source": [
    "connection.rollback()\n",
    "\n",
    "query = \"\"\"\n",
    "\n",
    "select a.station, a.line as from_line, b.line as to_line, s.transfer_time\n",
    "from lines a\n",
    "     join lines b\n",
    "       on a.station = b.station and a.line <> b.line \n",
    "     join stations s\n",
    "       on a.station = s.station\n",
    "order by 1, 2, 3\n",
    "\n",
    "\"\"\"\n",
    "\n",
    "cursor.execute(query)\n",
    "\n",
    "connection.rollback()\n",
    "\n",
    "rows = cursor.fetchall()\n",
    "\n",
    "for row in rows:\n",
    "    \n",
    "    station = row[0]\n",
    "    from_line = row[1]\n",
    "    to_line = row[2]\n",
    "    transfer_time = int(row[3])\n",
    "    \n",
    "    from_station = from_line + ' ' + station\n",
    "    to_station = to_line + ' ' + station\n",
    "    \n",
    "    my_neo4j_create_relationship_one_way(from_station, to_station, transfer_time)\n",
    "    "
   ]
  },
  {
   "cell_type": "code",
   "execution_count": 36,
   "id": "0f6f75f2",
   "metadata": {},
   "outputs": [
    {
     "name": "stdout",
     "output_type": "stream",
     "text": [
      "-------------------------\n",
      "  Nodes: 214\n",
      "  Relationships: 436\n",
      "-------------------------\n"
     ]
    }
   ],
   "source": [
    "my_neo4j_number_nodes_relationships()"
   ]
  },
  {
   "cell_type": "markdown",
   "id": "732b73db",
   "metadata": {},
   "source": [
    "### Between each of the stations that are adjoined, we will create 2 connections for both directions."
   ]
  },
  {
   "cell_type": "code",
   "execution_count": 37,
   "id": "f5c4720d",
   "metadata": {},
   "outputs": [],
   "source": [
    "connection.rollback()\n",
    "\n",
    "query = \"\"\"\n",
    "\n",
    "select a.line, a.station as from_station, b.station as to_station, t.travel_time\n",
    "from lines a\n",
    "  join lines b\n",
    "    on a.line = b.line and b.sequence = (a.sequence + 1)\n",
    "  join travel_times t\n",
    "    on (a.station = t.station_1 and b.station = t.station_2)\n",
    "        or (a.station = t.station_2 and b.station = t.station_1)\n",
    "order by line, from_station, to_station\n",
    "\n",
    "\"\"\"\n",
    "\n",
    "cursor.execute(query)\n",
    "\n",
    "connection.rollback()\n",
    "\n",
    "rows = cursor.fetchall()\n",
    "\n",
    "for row in rows:\n",
    "    \n",
    "    line = row[0]\n",
    "    from_station = line + ' ' + row[1]\n",
    "    to_station = line + ' ' + row[2]\n",
    "    travel_time = int(row[3])\n",
    "    \n",
    "    my_neo4j_create_relationship_two_way(from_station, to_station, travel_time)\n",
    "    "
   ]
  },
  {
   "cell_type": "code",
   "execution_count": 38,
   "id": "15c9f8c7",
   "metadata": {},
   "outputs": [
    {
     "name": "stdout",
     "output_type": "stream",
     "text": [
      "-------------------------\n",
      "  Nodes: 214\n",
      "  Relationships: 652\n",
      "-------------------------\n"
     ]
    }
   ],
   "source": [
    "my_neo4j_number_nodes_relationships()"
   ]
  },
  {
   "cell_type": "markdown",
   "id": "9dc8e259",
   "metadata": {},
   "source": [
    "## Finally, we will test our weighted shortest paths algorithm two stations, starting with a depart node and ending with an arrive node. "
   ]
  },
  {
   "cell_type": "code",
   "execution_count": 39,
   "id": "58a817e3",
   "metadata": {},
   "outputs": [
    {
     "name": "stdout",
     "output_type": "stream",
     "text": [
      "\n",
      "--------------------------------\n",
      "   Total Cost:  4068\n",
      "   Minutes:  67.8\n",
      "--------------------------------\n",
      "depart San Bruno, 0, 0\n",
      "yellow San Bruno, 0, 0\n",
      "yellow South San Francisco, 240, 240\n",
      "yellow Colma, 180, 420\n",
      "yellow Daly City, 240, 660\n",
      "yellow Balboa Park, 240, 900\n",
      "green Balboa Park, 48, 948\n",
      "green Glen Park, 120, 1068\n",
      "green 24th Street Mission, 180, 1248\n",
      "green 16th Street Mission, 120, 1368\n",
      "green Civic Center, 180, 1548\n",
      "green Powell Street, 60, 1608\n",
      "green Montgomery Street, 120, 1728\n",
      "green Embarcadero, 60, 1788\n",
      "green West Oakland, 420, 2208\n",
      "green Lake Merritt, 360, 2568\n",
      "green Fruitvale, 300, 2868\n",
      "green Coliseum, 240, 3108\n",
      "green San Leandro, 240, 3348\n",
      "green Bay Fair, 240, 3588\n",
      "green Hayward, 240, 3828\n",
      "green South Hayward, 240, 4068\n",
      "arrive South Hayward, 0, 4068\n"
     ]
    }
   ],
   "source": [
    "my_neo4j_shortest_path('depart San Bruno', 'arrive South Hayward')"
   ]
  }
 ],
 "metadata": {
  "kernelspec": {
   "display_name": "Python 3 (ipykernel)",
   "language": "python",
   "name": "python3"
  },
  "language_info": {
   "codemirror_mode": {
    "name": "ipython",
    "version": 3
   },
   "file_extension": ".py",
   "mimetype": "text/x-python",
   "name": "python",
   "nbconvert_exporter": "python",
   "pygments_lexer": "ipython3",
   "version": "3.10.4"
  }
 },
 "nbformat": 4,
 "nbformat_minor": 5
}
