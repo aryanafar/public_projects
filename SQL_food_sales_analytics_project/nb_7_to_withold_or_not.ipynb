{
  "cells": [
    {
      "cell_type": "markdown",
      "source": [
        "# Analysis on continuing to withhold customer data from 3rd parties\n"
      ],
      "metadata": {},
      "id": "3f465500"
    },
    {
      "cell_type": "markdown",
      "source": [
        "AGM does not want to give out its customer list to 3rd party sales channels.  The downside is, as we have seen, that customer first names, last names, and street addresses will have some variations and not be exact matches.\n",
        "\n",
        "The question is:\n",
        "\n",
        "1)  Continue to withhold the customer data from 3rd party sales channels\n",
        "\n",
        "2)  Give customer data to 3rd party sales channels\n"
      ],
      "metadata": {},
      "id": "1cf92eab"
    },
    {
      "cell_type": "markdown",
      "source": [
        "# To withhold, or not to withhold; that is the question!\n",
        "\n",
        "\n",
        "Continuing to withhold customer data from 3rd party sales channels makes sense to from a privacy perspective. Even with privacy agreements in place, there is indeed a risk that the 3rd party channels may utilize customers’ identifying features such as their address to execute their own personal motives. For example, they may use this additional customer data as a means of sending advertisements to customers, which would likely cause a sense of irritation among AGM customers. Therefore, withholding customer data would protect us on the privacy front. However, it would also place a financial burden on AGM. It would cost more money and take more time for AGM to hire data engineers to deal with discrepancies in customer data in Peak’s daily JSON files. Furthermore, any one mistake in cleansing and validating upstream could have major impacts downstream, and these impacts couldn’t be avoided since they would be coming from AGM itself.\n",
        "\n",
        "Giving customer data to 3rd party sales channels would make sense from the perspective of reducing the liability involving incorrect data cleansing. If sales parties are directly given customer data, they can make their own decisions with regard to how exactly they want to cleanse and validate the data. This would also save us a lot of time and money. We would not have to worry about hiring data engineers to cleanse and validate customer data daily. We would simply send the JSON results from the Peak API directly to our 3rd party sales channels and allow them to cover the potential liabilities of inaccurate analysis and cost of data cleansing and validation. However, we must also be aware that placing these responsibilities on 3rd party players does not necessarily ensure best  practices in their downstream data cleansing and subsequent analysis. \n",
        "\n",
        "Therefore, I would recommend giving customer data to 3rd party sales channels, and on top of that, providing them with a clear framework for data validation. I would recommend communicating clearly about the daily data’s sourcing from Peak’s API through which customers directly provide their personal information, making sure to emphasize that there will likely be some typos or small discrepancies among some of the names and address provided by the same person. I would provide them with resources to help them manage this, pointing them in the direction of methods like Levenshtein distances, Soundex, Fuzzy matching, and more. This will ensure that we are not carrying a heavy financial burden nor are we responsible for any discrepancies in downstream data cleansing. This would also ensure that we are communicating clearly with 3rd party sales channels and giving them all the information they need to deal with any issues of matching customer data. Overall, sharing customer data with 3rd party sales channels would be optimal for AGM because of its lower financial cost, the lower chance of liability in inaccurate analyses, and the clarity of communication regarding data sourcing and best practices for analysis.\n"
      ],
      "metadata": {},
      "id": "c8086a63"
    }
  ],
  "metadata": {
    "kernelspec": {
      "display_name": "Python 3 (ipykernel)",
      "language": "python",
      "name": "python3"
    },
    "language_info": {
      "codemirror_mode": {
        "name": "ipython",
        "version": 3
      },
      "file_extension": ".py",
      "mimetype": "text/x-python",
      "name": "python",
      "nbconvert_exporter": "python",
      "pygments_lexer": "ipython3",
      "version": "3.9.7"
    },
    "nteract": {
      "version": "0.28.0"
    }
  },
  "nbformat": 4,
  "nbformat_minor": 5
}