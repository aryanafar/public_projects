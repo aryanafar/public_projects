{
  "cells": [
    {
      "cell_type": "markdown",
      "source": [
        "# Create and load staging tables\n",
        "\n"
      ],
      "metadata": {},
      "id": "3f465500"
    },
    {
      "cell_type": "code",
      "source": [
        "import csv\n",
        "\n",
        "import json\n",
        "\n",
        "import math\n",
        "import numpy as np\n",
        "import pandas as pd\n",
        "\n",
        "import psycopg2"
      ],
      "outputs": [],
      "execution_count": 1,
      "metadata": {},
      "id": "530d745a"
    },
    {
      "cell_type": "code",
      "source": [
        "#\n",
        "# function to run a select query and return rows in a pandas dataframe\n",
        "# pandas puts all numeric values from postgres to float\n",
        "# if it will fit in an integer, change it to integer\n",
        "#\n",
        "\n",
        "def my_select_query_pandas(query, rollback_before_flag, rollback_after_flag):\n",
        "    \"function to run a select query and return rows in a pandas dataframe\"\n",
        "    \n",
        "    if rollback_before_flag:\n",
        "        connection.rollback()\n",
        "    \n",
        "    df = pd.read_sql_query(query, connection)\n",
        "    \n",
        "    if rollback_after_flag:\n",
        "        connection.rollback()\n",
        "    \n",
        "    # fix the float columns that really should be integers\n",
        "    \n",
        "    for column in df:\n",
        "    \n",
        "        if df[column].dtype == \"float64\":\n",
        "\n",
        "            fraction_flag = False\n",
        "\n",
        "            for value in df[column].values:\n",
        "                \n",
        "                if not np.isnan(value):\n",
        "                    if value - math.floor(value) != 0:\n",
        "                        fraction_flag = True\n",
        "\n",
        "            if not fraction_flag:\n",
        "                df[column] = df[column].astype('Int64')\n",
        "    \n",
        "    return(df)\n",
        "    "
      ],
      "outputs": [],
      "execution_count": 2,
      "metadata": {},
      "id": "8e09ebb0"
    },
    {
      "cell_type": "code",
      "source": [
        "connection = psycopg2.connect(\n",
        "    user = \"postgres\",\n",
        "    host = \"postgres\",\n",
        "    port = \"5432\",\n",
        "    database = \"postgres\"\n",
        ")"
      ],
      "outputs": [],
      "execution_count": 3,
      "metadata": {},
      "id": "5d12068a"
    },
    {
      "cell_type": "code",
      "source": [
        "cursor = connection.cursor()"
      ],
      "outputs": [],
      "execution_count": 4,
      "metadata": {},
      "id": "b6e2080e"
    },
    {
      "cell_type": "markdown",
      "source": [
        "# Drop the staging table stage_1_peak_sales if it exists\n"
      ],
      "metadata": {},
      "id": "d2e6beed"
    },
    {
      "cell_type": "code",
      "source": [
        "connection.rollback()\n",
        "\n",
        "query = \"\"\"\n",
        "\n",
        "drop table if exists stage_1_peak_sales\n",
        "\n",
        "\"\"\"\n",
        "\n",
        "cursor.execute(query)\n",
        "\n",
        "connection.commit()\n",
        "\n"
      ],
      "outputs": [],
      "execution_count": 5,
      "metadata": {},
      "id": "3583ee6e"
    },
    {
      "cell_type": "markdown",
      "source": [
        "# Drop the staging table stage_1_peak_stores if it exists\n"
      ],
      "metadata": {},
      "id": "5ad24a30"
    },
    {
      "cell_type": "code",
      "source": [
        "connection.rollback()\n",
        "\n",
        "query = \"\"\"\n",
        "\n",
        "drop table if exists stage_1_peak_stores\n",
        "\n",
        "\"\"\"\n",
        "\n",
        "cursor.execute(query)\n",
        "\n",
        "connection.commit()\n",
        "\n"
      ],
      "outputs": [],
      "execution_count": 6,
      "metadata": {},
      "id": "afd095c4"
    },
    {
      "cell_type": "markdown",
      "source": [
        "# Drop the staging table stage_1_peak_customers if it exists\n",
        " "
      ],
      "metadata": {},
      "id": "3962bec1"
    },
    {
      "cell_type": "code",
      "source": [
        "connection.rollback()\n",
        "\n",
        "query = \"\"\"\n",
        "\n",
        "drop table if exists stage_1_peak_customers\n",
        "\n",
        "\"\"\"\n",
        "\n",
        "cursor.execute(query)\n",
        "\n",
        "connection.commit()\n",
        "\n"
      ],
      "outputs": [],
      "execution_count": 7,
      "metadata": {},
      "id": "fe433689"
    },
    {
      "cell_type": "markdown",
      "source": [
        "# Drop the staging table stage_1_peak_line_items if it exists\n"
      ],
      "metadata": {},
      "id": "c5c1e425"
    },
    {
      "cell_type": "code",
      "source": [
        "connection.rollback()\n",
        "\n",
        "query = \"\"\"\n",
        "\n",
        "drop table if exists stage_1_peak_line_items\n",
        "\n",
        "\"\"\"\n",
        "\n",
        "cursor.execute(query)\n",
        "\n",
        "connection.commit()\n",
        "\n"
      ],
      "outputs": [],
      "execution_count": 8,
      "metadata": {},
      "id": "fd93148a"
    },
    {
      "cell_type": "markdown",
      "source": [
        "# Create the staging table stage_1_peak_sales\n",
        "\n",
        "The first column should be stage_id with the data type as serial.\n"
      ],
      "metadata": {},
      "id": "9b6b3f97"
    },
    {
      "cell_type": "code",
      "source": [
        "connection.rollback()\n",
        "\n",
        "query = \"\"\"\n",
        "\n",
        "create table stage_1_peak_sales (\n",
        "    stage_id serial,\n",
        "    sale_id varchar(100),\n",
        "    sale_date varchar(100),\n",
        "    sub_total varchar(100),\n",
        "    tax varchar(100),\n",
        "    total_amount varchar(100)\n",
        ")\n",
        "\n",
        "\"\"\"\n",
        "\n",
        "cursor.execute(query)\n",
        "\n",
        "connection.commit()\n",
        "\n"
      ],
      "outputs": [],
      "execution_count": 9,
      "metadata": {},
      "id": "2a134f5a"
    },
    {
      "cell_type": "markdown",
      "source": [
        "# Create the staging table stage_1_peak_stores\n",
        "\n",
        "The first column should be stage_id with data type as serial.\n"
      ],
      "metadata": {},
      "id": "027a3986"
    },
    {
      "cell_type": "code",
      "source": [
        "connection.rollback()\n",
        "\n",
        "query = \"\"\"\n",
        "\n",
        "create table stage_1_peak_stores (\n",
        "stage_id serial,\n",
        "sale_id varchar(100),\n",
        "location_id varchar(100),\n",
        "name varchar(100),\n",
        "street varchar(100),\n",
        "city varchar(100),\n",
        "state varchar(100),\n",
        "zip varchar(100)\n",
        "\n",
        ")\n",
        "\n",
        "\n",
        "\"\"\"\n",
        "\n",
        "cursor.execute(query)\n",
        "\n",
        "connection.commit()\n",
        "\n"
      ],
      "outputs": [],
      "execution_count": 10,
      "metadata": {},
      "id": "1b2ea3a3"
    },
    {
      "cell_type": "markdown",
      "source": [
        "# Create the staging table stage_1_peak_customers\n",
        "\n",
        "\n",
        "The first column should be stage_id with data type as serial.\n",
        "\n"
      ],
      "metadata": {},
      "id": "db8d8bb7"
    },
    {
      "cell_type": "code",
      "source": [
        "connection.rollback()\n",
        "\n",
        "query = \"\"\"\n",
        "\n",
        "create table stage_1_peak_customers (\n",
        "stage_id serial,\n",
        "sale_id varchar(100),\n",
        "customer_id varchar(100),\n",
        "first_name varchar(100),\n",
        "last_name varchar(100),\n",
        "street varchar(100),\n",
        "city varchar(100),\n",
        "state varchar(100),\n",
        "zip varchar(100)\n",
        "\n",
        ")\n",
        "\n",
        "\"\"\"\n",
        "\n",
        "cursor.execute(query)\n",
        "\n",
        "connection.commit()\n",
        "\n"
      ],
      "outputs": [],
      "execution_count": 11,
      "metadata": {},
      "id": "2b09f1b3"
    },
    {
      "cell_type": "markdown",
      "source": [
        "# Create the staging table stage_1_peak_line_items\n",
        "\n",
        "\n",
        "The first column should be stage_id with data type as serial.\n"
      ],
      "metadata": {},
      "id": "37c5a8ae"
    },
    {
      "cell_type": "code",
      "source": [
        "connection.rollback()\n",
        "\n",
        "query = \"\"\"\n",
        "\n",
        "create table stage_1_peak_line_items (\n",
        "stage_id serial,\n",
        "sale_id varchar(100),\n",
        "line_item_id varchar(100),\n",
        "product_id varchar(100),\n",
        "price varchar(100),\n",
        "quantity varchar(100),\n",
        "taxable varchar(100)\n",
        "\n",
        ")\n",
        "\n",
        "\"\"\"\n",
        "\n",
        "cursor.execute(query)\n",
        "\n",
        "connection.commit()\n",
        "\n"
      ],
      "outputs": [],
      "execution_count": 12,
      "metadata": {},
      "id": "c82391ad"
    },
    {
      "cell_type": "markdown",
      "source": [
        "# Load the CSV file peak_sales.csv into the table stage_1_peak_sales\n",
        "\n",
        "The stage_id column is a serial and will auto populate, so we need to provide a column list and leave it out of the column list for the load.\n"
      ],
      "metadata": {},
      "id": "1bcdea38"
    },
    {
      "cell_type": "code",
      "source": [
        "connection.rollback()\n",
        "\n",
        "query = \"\"\"\n",
        "\n",
        "copy stage_1_peak_sales (sale_id, sale_date, sub_total, tax, total_amount)\n",
        "from '/user/projects/project-2-aryanafar/peak_sales.csv' delimiter ',' NULL '' csv header;\n",
        "\n",
        "\"\"\"\n",
        "\n",
        "cursor.execute(query)\n",
        "\n",
        "connection.commit()"
      ],
      "outputs": [],
      "execution_count": 13,
      "metadata": {},
      "id": "5ca0d5f2"
    },
    {
      "cell_type": "markdown",
      "source": [
        "# Load the CSV file peak_stores.csv into the table stage_1_peak_stores\n",
        "\n",
        "The stage_id column is a serial and will auto populate, so we need to provide a column list and leave it out of the column list for the load. "
      ],
      "metadata": {},
      "id": "d1cfcfd1"
    },
    {
      "cell_type": "code",
      "source": [
        "connection.rollback()\n",
        "\n",
        "query = \"\"\"\n",
        "\n",
        "copy stage_1_peak_stores (sale_id, location_id, name, street, city, state, zip)\n",
        "from '/user/projects/project-2-aryanafar/peak_stores.csv' delimiter ',' NULL '' csv header;\n",
        "\n",
        "\"\"\"\n",
        "\n",
        "cursor.execute(query)\n",
        "\n",
        "connection.commit()"
      ],
      "outputs": [],
      "execution_count": 14,
      "metadata": {},
      "id": "aef6f2db"
    },
    {
      "cell_type": "markdown",
      "source": [
        "# Load the CSV file peak_customers.csv into the table stage_1_peak_customers\n",
        "\n",
        "The stage_id column is a serial and will auto populate, so we need to provide a column list and leave it out of the column list for the load."
      ],
      "metadata": {},
      "id": "c9be7047"
    },
    {
      "cell_type": "code",
      "source": [
        "connection.rollback()\n",
        "\n",
        "query = \"\"\"\n",
        "\n",
        "copy stage_1_peak_customers (sale_id, customer_id, first_name, last_name, street, city, state, zip)\n",
        "from '/user/projects/project-2-aryanafar/peak_customers.csv' delimiter ',' NULL '' csv header;\n",
        "\n",
        "\"\"\"\n",
        "\n",
        "cursor.execute(query)\n",
        "\n",
        "connection.commit()"
      ],
      "outputs": [],
      "execution_count": 15,
      "metadata": {},
      "id": "237e077e"
    },
    {
      "cell_type": "markdown",
      "source": [
        "# Load the CSV file peak_line_items.csv into the table stage_1_peak_line_items\n",
        "\n",
        "The stage_id column is a serial and will auto populate, so we need to provide a column list and leave it out of the column list for the load."
      ],
      "metadata": {},
      "id": "7a93d483"
    },
    {
      "cell_type": "code",
      "source": [
        "connection.rollback()\n",
        "\n",
        "query = \"\"\"\n",
        "\n",
        "copy stage_1_peak_line_items (sale_id, line_item_id, product_id, price, quantity, taxable)\n",
        "from '/user/projects/project-2-aryanafar/peak_line_items.csv' delimiter ',' NULL '' csv header;\n",
        "\n",
        "\"\"\"\n",
        "\n",
        "cursor.execute(query)\n",
        "\n",
        "connection.commit()"
      ],
      "outputs": [],
      "execution_count": 16,
      "metadata": {},
      "id": "18636a3a"
    },
    {
      "cell_type": "markdown",
      "source": [
        "# Verify the load of stage_1_peak_sales by querying the entire table\n"
      ],
      "metadata": {},
      "id": "60e43ccc"
    },
    {
      "cell_type": "code",
      "source": [
        "rollback_before_flag = True\n",
        "rollback_after_flag = True\n",
        "\n",
        "query = \"\"\"\n",
        "\n",
        "select *\n",
        "from stage_1_peak_sales\n",
        "order by stage_id\n",
        "\n",
        "\"\"\"\n",
        "\n",
        "my_select_query_pandas(query, rollback_before_flag, rollback_after_flag)"
      ],
      "outputs": [
        {
          "output_type": "execute_result",
          "execution_count": 17,
          "data": {
            "text/html": "<div>\n<style scoped>\n    .dataframe tbody tr th:only-of-type {\n        vertical-align: middle;\n    }\n\n    .dataframe tbody tr th {\n        vertical-align: top;\n    }\n\n    .dataframe thead th {\n        text-align: right;\n    }\n</style>\n<table border=\"1\" class=\"dataframe\">\n  <thead>\n    <tr style=\"text-align: right;\">\n      <th></th>\n      <th>stage_id</th>\n      <th>sale_id</th>\n      <th>sale_date</th>\n      <th>sub_total</th>\n      <th>tax</th>\n      <th>total_amount</th>\n    </tr>\n  </thead>\n  <tbody>\n    <tr>\n      <th>0</th>\n      <td>1</td>\n      <td>5763728874</td>\n      <td>2020-10-03</td>\n      <td>12</td>\n      <td>0</td>\n      <td>12</td>\n    </tr>\n    <tr>\n      <th>1</th>\n      <td>2</td>\n      <td>5763729036</td>\n      <td>2020-10-03</td>\n      <td>72</td>\n      <td>0</td>\n      <td>72</td>\n    </tr>\n    <tr>\n      <th>2</th>\n      <td>3</td>\n      <td>5763728904</td>\n      <td>2020-10-03</td>\n      <td>24</td>\n      <td>0</td>\n      <td>24</td>\n    </tr>\n    <tr>\n      <th>3</th>\n      <td>4</td>\n      <td>5763728973</td>\n      <td>2020-10-03</td>\n      <td>96</td>\n      <td>0</td>\n      <td>96</td>\n    </tr>\n    <tr>\n      <th>4</th>\n      <td>5</td>\n      <td>5763728757</td>\n      <td>2020-10-03</td>\n      <td>108</td>\n      <td>0</td>\n      <td>108</td>\n    </tr>\n    <tr>\n      <th>...</th>\n      <td>...</td>\n      <td>...</td>\n      <td>...</td>\n      <td>...</td>\n      <td>...</td>\n      <td>...</td>\n    </tr>\n    <tr>\n      <th>92</th>\n      <td>93</td>\n      <td>5763728927</td>\n      <td>2020-10-03</td>\n      <td>72</td>\n      <td>0</td>\n      <td>72</td>\n    </tr>\n    <tr>\n      <th>93</th>\n      <td>94</td>\n      <td>5763729096</td>\n      <td>2020-10-03</td>\n      <td>48</td>\n      <td>0</td>\n      <td>48</td>\n    </tr>\n    <tr>\n      <th>94</th>\n      <td>95</td>\n      <td>5763729268</td>\n      <td>2020-10-03</td>\n      <td>84</td>\n      <td>0</td>\n      <td>84</td>\n    </tr>\n    <tr>\n      <th>95</th>\n      <td>96</td>\n      <td>5763729237</td>\n      <td>2020-10-03</td>\n      <td>60</td>\n      <td>0</td>\n      <td>60</td>\n    </tr>\n    <tr>\n      <th>96</th>\n      <td>97</td>\n      <td>5763728673</td>\n      <td>2020-10-03</td>\n      <td>48</td>\n      <td>0</td>\n      <td>48</td>\n    </tr>\n  </tbody>\n</table>\n<p>97 rows × 6 columns</p>\n</div>",
            "text/plain": "    stage_id     sale_id   sale_date sub_total tax total_amount\n0          1  5763728874  2020-10-03        12   0           12\n1          2  5763729036  2020-10-03        72   0           72\n2          3  5763728904  2020-10-03        24   0           24\n3          4  5763728973  2020-10-03        96   0           96\n4          5  5763728757  2020-10-03       108   0          108\n..       ...         ...         ...       ...  ..          ...\n92        93  5763728927  2020-10-03        72   0           72\n93        94  5763729096  2020-10-03        48   0           48\n94        95  5763729268  2020-10-03        84   0           84\n95        96  5763729237  2020-10-03        60   0           60\n96        97  5763728673  2020-10-03        48   0           48\n\n[97 rows x 6 columns]"
          },
          "metadata": {}
        }
      ],
      "execution_count": 17,
      "metadata": {},
      "id": "96a2ed38"
    },
    {
      "cell_type": "markdown",
      "source": [
        "# Verify the load of stage_1_peak_stores by querying the entire table\n",
        "\n"
      ],
      "metadata": {},
      "id": "473fd36d"
    },
    {
      "cell_type": "code",
      "source": [
        "rollback_before_flag = True\n",
        "rollback_after_flag = True\n",
        "\n",
        "query = \"\"\"\n",
        "\n",
        "select *\n",
        "from stage_1_peak_stores\n",
        "order by stage_id\n",
        "\n",
        "\"\"\"\n",
        "\n",
        "my_select_query_pandas(query, rollback_before_flag, rollback_after_flag)"
      ],
      "outputs": [
        {
          "output_type": "execute_result",
          "execution_count": 18,
          "data": {
            "text/html": "<div>\n<style scoped>\n    .dataframe tbody tr th:only-of-type {\n        vertical-align: middle;\n    }\n\n    .dataframe tbody tr th {\n        vertical-align: top;\n    }\n\n    .dataframe thead th {\n        text-align: right;\n    }\n</style>\n<table border=\"1\" class=\"dataframe\">\n  <thead>\n    <tr style=\"text-align: right;\">\n      <th></th>\n      <th>stage_id</th>\n      <th>sale_id</th>\n      <th>location_id</th>\n      <th>name</th>\n      <th>street</th>\n      <th>city</th>\n      <th>state</th>\n      <th>zip</th>\n    </tr>\n  </thead>\n  <tbody>\n    <tr>\n      <th>0</th>\n      <td>1</td>\n      <td>5763728874</td>\n      <td>12573</td>\n      <td>Acme Gourmet Meals</td>\n      <td>3000 Telegraph Ave</td>\n      <td>Berkeley</td>\n      <td>CA</td>\n      <td>94705</td>\n    </tr>\n    <tr>\n      <th>1</th>\n      <td>2</td>\n      <td>5763729036</td>\n      <td>12573</td>\n      <td>Acme Gourmet Meals</td>\n      <td>3000 Telegraph Ave</td>\n      <td>Berkeley</td>\n      <td>CA</td>\n      <td>94705</td>\n    </tr>\n    <tr>\n      <th>2</th>\n      <td>3</td>\n      <td>5763728904</td>\n      <td>12573</td>\n      <td>Acme Gourmet Meals</td>\n      <td>3000 Telegraph Ave</td>\n      <td>Berkeley</td>\n      <td>CA</td>\n      <td>94705</td>\n    </tr>\n    <tr>\n      <th>3</th>\n      <td>4</td>\n      <td>5763728973</td>\n      <td>12573</td>\n      <td>Acme Gourmet Meals</td>\n      <td>3000 Telegraph Ave</td>\n      <td>Berkeley</td>\n      <td>CA</td>\n      <td>94705</td>\n    </tr>\n    <tr>\n      <th>4</th>\n      <td>5</td>\n      <td>5763728757</td>\n      <td>12573</td>\n      <td>Acme Gourmet Meals</td>\n      <td>3000 Telegraph Ave</td>\n      <td>Berkeley</td>\n      <td>CA</td>\n      <td>94705</td>\n    </tr>\n    <tr>\n      <th>...</th>\n      <td>...</td>\n      <td>...</td>\n      <td>...</td>\n      <td>...</td>\n      <td>...</td>\n      <td>...</td>\n      <td>...</td>\n      <td>...</td>\n    </tr>\n    <tr>\n      <th>92</th>\n      <td>93</td>\n      <td>5763728927</td>\n      <td>12573</td>\n      <td>Acme Gourmet Meals</td>\n      <td>3000 Telegraph Ave</td>\n      <td>Berkeley</td>\n      <td>CA</td>\n      <td>94705</td>\n    </tr>\n    <tr>\n      <th>93</th>\n      <td>94</td>\n      <td>5763729096</td>\n      <td>12573</td>\n      <td>Acme Gourmet Meals</td>\n      <td>3000 Telegraph Ave</td>\n      <td>Berkeley</td>\n      <td>CA</td>\n      <td>94705</td>\n    </tr>\n    <tr>\n      <th>94</th>\n      <td>95</td>\n      <td>5763729268</td>\n      <td>12573</td>\n      <td>Acme Gourmet Meals</td>\n      <td>3000 Telegraph Ave</td>\n      <td>Berkeley</td>\n      <td>CA</td>\n      <td>94705</td>\n    </tr>\n    <tr>\n      <th>95</th>\n      <td>96</td>\n      <td>5763729237</td>\n      <td>12573</td>\n      <td>Acme Gourmet Meals</td>\n      <td>3000 Telegraph Ave</td>\n      <td>Berkeley</td>\n      <td>CA</td>\n      <td>94705</td>\n    </tr>\n    <tr>\n      <th>96</th>\n      <td>97</td>\n      <td>5763728673</td>\n      <td>12573</td>\n      <td>Acme Gourmet Meals</td>\n      <td>3000 Telegraph Ave</td>\n      <td>Berkeley</td>\n      <td>CA</td>\n      <td>94705</td>\n    </tr>\n  </tbody>\n</table>\n<p>97 rows × 8 columns</p>\n</div>",
            "text/plain": "    stage_id     sale_id location_id                name              street  \\\n0          1  5763728874       12573  Acme Gourmet Meals  3000 Telegraph Ave   \n1          2  5763729036       12573  Acme Gourmet Meals  3000 Telegraph Ave   \n2          3  5763728904       12573  Acme Gourmet Meals  3000 Telegraph Ave   \n3          4  5763728973       12573  Acme Gourmet Meals  3000 Telegraph Ave   \n4          5  5763728757       12573  Acme Gourmet Meals  3000 Telegraph Ave   \n..       ...         ...         ...                 ...                 ...   \n92        93  5763728927       12573  Acme Gourmet Meals  3000 Telegraph Ave   \n93        94  5763729096       12573  Acme Gourmet Meals  3000 Telegraph Ave   \n94        95  5763729268       12573  Acme Gourmet Meals  3000 Telegraph Ave   \n95        96  5763729237       12573  Acme Gourmet Meals  3000 Telegraph Ave   \n96        97  5763728673       12573  Acme Gourmet Meals  3000 Telegraph Ave   \n\n        city state    zip  \n0   Berkeley    CA  94705  \n1   Berkeley    CA  94705  \n2   Berkeley    CA  94705  \n3   Berkeley    CA  94705  \n4   Berkeley    CA  94705  \n..       ...   ...    ...  \n92  Berkeley    CA  94705  \n93  Berkeley    CA  94705  \n94  Berkeley    CA  94705  \n95  Berkeley    CA  94705  \n96  Berkeley    CA  94705  \n\n[97 rows x 8 columns]"
          },
          "metadata": {}
        }
      ],
      "execution_count": 18,
      "metadata": {},
      "id": "05098a37"
    },
    {
      "cell_type": "markdown",
      "source": [
        "# Verify the load of stage_1_peak_customers by querying the entire table\n"
      ],
      "metadata": {},
      "id": "1402684b"
    },
    {
      "cell_type": "code",
      "source": [
        "rollback_before_flag = True\n",
        "rollback_after_flag = True\n",
        "\n",
        "query = \"\"\"\n",
        "\n",
        "select *\n",
        "from stage_1_peak_customers\n",
        "order by stage_id\n",
        "\n",
        "\"\"\"\n",
        "\n",
        "my_select_query_pandas(query, rollback_before_flag, rollback_after_flag)"
      ],
      "outputs": [
        {
          "output_type": "execute_result",
          "execution_count": 19,
          "data": {
            "text/html": "<div>\n<style scoped>\n    .dataframe tbody tr th:only-of-type {\n        vertical-align: middle;\n    }\n\n    .dataframe tbody tr th {\n        vertical-align: top;\n    }\n\n    .dataframe thead th {\n        text-align: right;\n    }\n</style>\n<table border=\"1\" class=\"dataframe\">\n  <thead>\n    <tr style=\"text-align: right;\">\n      <th></th>\n      <th>stage_id</th>\n      <th>sale_id</th>\n      <th>customer_id</th>\n      <th>first_name</th>\n      <th>last_name</th>\n      <th>street</th>\n      <th>city</th>\n      <th>state</th>\n      <th>zip</th>\n    </tr>\n  </thead>\n  <tbody>\n    <tr>\n      <th>0</th>\n      <td>1</td>\n      <td>5763728874</td>\n      <td>3728404</td>\n      <td>Darrelle</td>\n      <td>Dohrmann</td>\n      <td>46 Farwell Terrace</td>\n      <td>Oakland</td>\n      <td>CA</td>\n      <td>94609</td>\n    </tr>\n    <tr>\n      <th>1</th>\n      <td>2</td>\n      <td>5763729036</td>\n      <td>3729309</td>\n      <td>Moria</td>\n      <td>Greenwood</td>\n      <td>8803 Delaware Crossing</td>\n      <td>Berkeley</td>\n      <td>CA</td>\n      <td>94705</td>\n    </tr>\n    <tr>\n      <th>2</th>\n      <td>3</td>\n      <td>5763728904</td>\n      <td>3728508</td>\n      <td>Josiah</td>\n      <td>Hulett</td>\n      <td>6755 Melby Plaza</td>\n      <td>Oakland</td>\n      <td>CA</td>\n      <td>94612</td>\n    </tr>\n    <tr>\n      <th>3</th>\n      <td>4</td>\n      <td>5763728973</td>\n      <td>3728534</td>\n      <td>Gayle</td>\n      <td>MacGarrity</td>\n      <td>286 Onsgard Center</td>\n      <td>Berkeley</td>\n      <td>CA</td>\n      <td>94703</td>\n    </tr>\n    <tr>\n      <th>4</th>\n      <td>5</td>\n      <td>5763728757</td>\n      <td>3729188</td>\n      <td>Courtenay</td>\n      <td>Shirrell</td>\n      <td>75 West Park</td>\n      <td>Emeryville</td>\n      <td>CA</td>\n      <td>94608</td>\n    </tr>\n    <tr>\n      <th>...</th>\n      <td>...</td>\n      <td>...</td>\n      <td>...</td>\n      <td>...</td>\n      <td>...</td>\n      <td>...</td>\n      <td>...</td>\n      <td>...</td>\n      <td>...</td>\n    </tr>\n    <tr>\n      <th>92</th>\n      <td>93</td>\n      <td>5763728927</td>\n      <td>3728568</td>\n      <td>Valina</td>\n      <td>Spring</td>\n      <td>119 Sachtjen Junction</td>\n      <td>Berkeley</td>\n      <td>CA</td>\n      <td>94702</td>\n    </tr>\n    <tr>\n      <th>93</th>\n      <td>94</td>\n      <td>5763729096</td>\n      <td>3728990</td>\n      <td>Claire</td>\n      <td>Mebes</td>\n      <td>358 Oxford Road</td>\n      <td>Albany</td>\n      <td>CA</td>\n      <td>94706</td>\n    </tr>\n    <tr>\n      <th>94</th>\n      <td>95</td>\n      <td>5763729268</td>\n      <td>3728901</td>\n      <td>Freddy</td>\n      <td>Mumford</td>\n      <td>6 Transport Lane</td>\n      <td>Orinda</td>\n      <td>CA</td>\n      <td>94563</td>\n    </tr>\n    <tr>\n      <th>95</th>\n      <td>96</td>\n      <td>5763729237</td>\n      <td>3729019</td>\n      <td>Arv</td>\n      <td>Doret</td>\n      <td>2120 Mesta Circle</td>\n      <td>Emeryville</td>\n      <td>CA</td>\n      <td>94608</td>\n    </tr>\n    <tr>\n      <th>96</th>\n      <td>97</td>\n      <td>5763728673</td>\n      <td>3728691</td>\n      <td>Eula</td>\n      <td>Dewair</td>\n      <td>3 Crownhardt Road</td>\n      <td>Albany</td>\n      <td>CA</td>\n      <td>94706</td>\n    </tr>\n  </tbody>\n</table>\n<p>97 rows × 9 columns</p>\n</div>",
            "text/plain": "    stage_id     sale_id customer_id first_name   last_name  \\\n0          1  5763728874     3728404   Darrelle    Dohrmann   \n1          2  5763729036     3729309      Moria   Greenwood   \n2          3  5763728904     3728508     Josiah      Hulett   \n3          4  5763728973     3728534      Gayle  MacGarrity   \n4          5  5763728757     3729188  Courtenay    Shirrell   \n..       ...         ...         ...        ...         ...   \n92        93  5763728927     3728568     Valina      Spring   \n93        94  5763729096     3728990     Claire       Mebes   \n94        95  5763729268     3728901     Freddy     Mumford   \n95        96  5763729237     3729019        Arv       Doret   \n96        97  5763728673     3728691       Eula      Dewair   \n\n                    street        city state    zip  \n0       46 Farwell Terrace     Oakland    CA  94609  \n1   8803 Delaware Crossing    Berkeley    CA  94705  \n2         6755 Melby Plaza     Oakland    CA  94612  \n3       286 Onsgard Center    Berkeley    CA  94703  \n4             75 West Park  Emeryville    CA  94608  \n..                     ...         ...   ...    ...  \n92   119 Sachtjen Junction    Berkeley    CA  94702  \n93         358 Oxford Road      Albany    CA  94706  \n94        6 Transport Lane      Orinda    CA  94563  \n95       2120 Mesta Circle  Emeryville    CA  94608  \n96       3 Crownhardt Road      Albany    CA  94706  \n\n[97 rows x 9 columns]"
          },
          "metadata": {}
        }
      ],
      "execution_count": 19,
      "metadata": {},
      "id": "725fb77a"
    },
    {
      "cell_type": "markdown",
      "source": [
        "# Verify the load of stage_1_peak_line_items by querying the entire table\n"
      ],
      "metadata": {},
      "id": "50a50422"
    },
    {
      "cell_type": "code",
      "source": [
        "rollback_before_flag = True\n",
        "rollback_after_flag = True\n",
        "\n",
        "query = \"\"\"\n",
        "\n",
        "select *\n",
        "from stage_1_peak_line_items\n",
        "order by stage_id\n",
        "\n",
        "\"\"\"\n",
        "\n",
        "my_select_query_pandas(query, rollback_before_flag, rollback_after_flag)"
      ],
      "outputs": [
        {
          "output_type": "execute_result",
          "execution_count": 20,
          "data": {
            "text/html": "<div>\n<style scoped>\n    .dataframe tbody tr th:only-of-type {\n        vertical-align: middle;\n    }\n\n    .dataframe tbody tr th {\n        vertical-align: top;\n    }\n\n    .dataframe thead th {\n        text-align: right;\n    }\n</style>\n<table border=\"1\" class=\"dataframe\">\n  <thead>\n    <tr style=\"text-align: right;\">\n      <th></th>\n      <th>stage_id</th>\n      <th>sale_id</th>\n      <th>line_item_id</th>\n      <th>product_id</th>\n      <th>price</th>\n      <th>quantity</th>\n      <th>taxable</th>\n    </tr>\n  </thead>\n  <tbody>\n    <tr>\n      <th>0</th>\n      <td>1</td>\n      <td>5763728874</td>\n      <td>1</td>\n      <td>42314680</td>\n      <td>12</td>\n      <td>1</td>\n      <td>N</td>\n    </tr>\n    <tr>\n      <th>1</th>\n      <td>2</td>\n      <td>5763729036</td>\n      <td>1</td>\n      <td>42314677</td>\n      <td>12</td>\n      <td>1</td>\n      <td>N</td>\n    </tr>\n    <tr>\n      <th>2</th>\n      <td>3</td>\n      <td>5763729036</td>\n      <td>2</td>\n      <td>42314682</td>\n      <td>12</td>\n      <td>3</td>\n      <td>N</td>\n    </tr>\n    <tr>\n      <th>3</th>\n      <td>4</td>\n      <td>5763729036</td>\n      <td>3</td>\n      <td>42314684</td>\n      <td>12</td>\n      <td>2</td>\n      <td>N</td>\n    </tr>\n    <tr>\n      <th>4</th>\n      <td>5</td>\n      <td>5763728904</td>\n      <td>1</td>\n      <td>42314680</td>\n      <td>12</td>\n      <td>1</td>\n      <td>N</td>\n    </tr>\n    <tr>\n      <th>...</th>\n      <td>...</td>\n      <td>...</td>\n      <td>...</td>\n      <td>...</td>\n      <td>...</td>\n      <td>...</td>\n      <td>...</td>\n    </tr>\n    <tr>\n      <th>347</th>\n      <td>348</td>\n      <td>5763729237</td>\n      <td>2</td>\n      <td>42314678</td>\n      <td>12</td>\n      <td>2</td>\n      <td>N</td>\n    </tr>\n    <tr>\n      <th>348</th>\n      <td>349</td>\n      <td>5763729237</td>\n      <td>3</td>\n      <td>42314682</td>\n      <td>12</td>\n      <td>2</td>\n      <td>N</td>\n    </tr>\n    <tr>\n      <th>349</th>\n      <td>350</td>\n      <td>5763728673</td>\n      <td>1</td>\n      <td>42314677</td>\n      <td>12</td>\n      <td>2</td>\n      <td>N</td>\n    </tr>\n    <tr>\n      <th>350</th>\n      <td>351</td>\n      <td>5763728673</td>\n      <td>2</td>\n      <td>42314678</td>\n      <td>12</td>\n      <td>1</td>\n      <td>N</td>\n    </tr>\n    <tr>\n      <th>351</th>\n      <td>352</td>\n      <td>5763728673</td>\n      <td>3</td>\n      <td>42314682</td>\n      <td>12</td>\n      <td>1</td>\n      <td>N</td>\n    </tr>\n  </tbody>\n</table>\n<p>352 rows × 7 columns</p>\n</div>",
            "text/plain": "     stage_id     sale_id line_item_id product_id price quantity taxable\n0           1  5763728874            1   42314680    12        1       N\n1           2  5763729036            1   42314677    12        1       N\n2           3  5763729036            2   42314682    12        3       N\n3           4  5763729036            3   42314684    12        2       N\n4           5  5763728904            1   42314680    12        1       N\n..        ...         ...          ...        ...   ...      ...     ...\n347       348  5763729237            2   42314678    12        2       N\n348       349  5763729237            3   42314682    12        2       N\n349       350  5763728673            1   42314677    12        2       N\n350       351  5763728673            2   42314678    12        1       N\n351       352  5763728673            3   42314682    12        1       N\n\n[352 rows x 7 columns]"
          },
          "metadata": {}
        }
      ],
      "execution_count": 20,
      "metadata": {},
      "id": "41051998"
    }
  ],
  "metadata": {
    "kernelspec": {
      "display_name": "Python 3 (ipykernel)",
      "language": "python",
      "name": "python3"
    },
    "language_info": {
      "codemirror_mode": {
        "name": "ipython",
        "version": 3
      },
      "file_extension": ".py",
      "mimetype": "text/x-python",
      "name": "python",
      "nbconvert_exporter": "python",
      "pygments_lexer": "ipython3",
      "version": "3.9.7"
    },
    "nteract": {
      "version": "0.28.0"
    }
  },
  "nbformat": 4,
  "nbformat_minor": 5
}