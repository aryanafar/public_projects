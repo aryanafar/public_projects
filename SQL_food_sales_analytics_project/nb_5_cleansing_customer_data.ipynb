{
  "cells": [
    {
      "cell_type": "markdown",
      "source": [
        "# Cleansing customer data"
      ],
      "metadata": {},
      "id": "3f465500"
    },
    {
      "cell_type": "code",
      "source": [
        "import csv\n",
        "\n",
        "import json\n",
        "\n",
        "import math\n",
        "import numpy as np\n",
        "import pandas as pd\n",
        "\n",
        "import psycopg2"
      ],
      "outputs": [],
      "execution_count": 1,
      "metadata": {},
      "id": "530d745a"
    },
    {
      "cell_type": "code",
      "source": [
        "#\n",
        "# function to run a select query and return rows in a pandas dataframe\n",
        "# pandas puts all numeric values from postgres to float\n",
        "# if it will fit in an integer, change it to integer\n",
        "#\n",
        "\n",
        "def my_select_query_pandas(query, rollback_before_flag, rollback_after_flag):\n",
        "    \"function to run a select query and return rows in a pandas dataframe\"\n",
        "    \n",
        "    if rollback_before_flag:\n",
        "        connection.rollback()\n",
        "    \n",
        "    df = pd.read_sql_query(query, connection)\n",
        "    \n",
        "    if rollback_after_flag:\n",
        "        connection.rollback()\n",
        "    \n",
        "    # fix the float columns that really should be integers\n",
        "    \n",
        "    for column in df:\n",
        "    \n",
        "        if df[column].dtype == \"float64\":\n",
        "\n",
        "            fraction_flag = False\n",
        "\n",
        "            for value in df[column].values:\n",
        "                \n",
        "                if not np.isnan(value):\n",
        "                    if value - math.floor(value) != 0:\n",
        "                        fraction_flag = True\n",
        "\n",
        "            if not fraction_flag:\n",
        "                df[column] = df[column].astype('Int64')\n",
        "    \n",
        "    return(df)\n",
        "    "
      ],
      "outputs": [],
      "execution_count": 2,
      "metadata": {},
      "id": "8e09ebb0"
    },
    {
      "cell_type": "code",
      "source": [
        "connection = psycopg2.connect(\n",
        "    user = \"postgres\",\n",
        "    host = \"postgres\",\n",
        "    port = \"5432\",\n",
        "    database = \"postgres\"\n",
        ")"
      ],
      "outputs": [],
      "execution_count": 3,
      "metadata": {},
      "id": "5d12068a"
    },
    {
      "cell_type": "code",
      "source": [
        "cursor = connection.cursor()"
      ],
      "outputs": [],
      "execution_count": 4,
      "metadata": {},
      "id": "b6e2080e"
    },
    {
      "cell_type": "markdown",
      "source": [
        "# Validate the city, state, and zip for stage_1_peak_customers against the zip_codes table\n",
        "\n",
        "AGM does not want to give its customer list to 3rd party sales channels, including Peak Delivery.  For that reason, we can expect some variation in customer first and last names, and in the street.  However, the city, state, and zip should be validated by Peak's system, so we do not anticipate any issues."
      ],
      "metadata": {},
      "id": "d2e6beed"
    },
    {
      "cell_type": "code",
      "source": [
        "rollback_before_flag = True\n",
        "rollback_after_flag = True\n",
        "\n",
        "query = \"\"\"\n",
        "select stage_id \n",
        "from \n",
        "stage_1_peak_customers\n",
        "where (city, state, zip) not in (select city, state, zip from zip_codes)\n",
        "order by stage_id\n",
        "\n",
        "\"\"\"\n",
        "\n",
        "my_select_query_pandas(query, rollback_before_flag, rollback_after_flag)"
      ],
      "outputs": [
        {
          "output_type": "execute_result",
          "execution_count": 6,
          "data": {
            "text/html": "<div>\n<style scoped>\n    .dataframe tbody tr th:only-of-type {\n        vertical-align: middle;\n    }\n\n    .dataframe tbody tr th {\n        vertical-align: top;\n    }\n\n    .dataframe thead th {\n        text-align: right;\n    }\n</style>\n<table border=\"1\" class=\"dataframe\">\n  <thead>\n    <tr style=\"text-align: right;\">\n      <th></th>\n      <th>stage_id</th>\n    </tr>\n  </thead>\n  <tbody>\n  </tbody>\n</table>\n</div>",
            "text/plain": "Empty DataFrame\nColumns: [stage_id]\nIndex: []"
          },
          "metadata": {}
        }
      ],
      "execution_count": 6,
      "metadata": {},
      "id": "79f652c9"
    },
    {
      "cell_type": "markdown",
      "source": [
        "# Find all customer records in stage_1_peak_customers where any of first_name, last_name, and/or street do not match a customer in the customers table\n",
        "\n",
        "AGM does not want to give its customer list to 3rd party sales channels, including Peak Delivery.  For that reason, we can expect some variation in customer first and last names, and in the street."
      ],
      "metadata": {},
      "id": "0515b891"
    },
    {
      "cell_type": "code",
      "source": [
        "rollback_before_flag = True\n",
        "rollback_after_flag = True\n",
        "\n",
        "query = \"\"\"\n",
        "select *\n",
        "from\n",
        "stage_1_peak_customers\n",
        "where (first_name, last_name, street) not in (select first_name, last_name, street from customers)\n",
        "order by stage_id\n",
        "\"\"\"\n",
        "\n",
        "my_select_query_pandas(query, rollback_before_flag, rollback_after_flag)"
      ],
      "outputs": [
        {
          "output_type": "execute_result",
          "execution_count": 11,
          "data": {
            "text/html": "<div>\n<style scoped>\n    .dataframe tbody tr th:only-of-type {\n        vertical-align: middle;\n    }\n\n    .dataframe tbody tr th {\n        vertical-align: top;\n    }\n\n    .dataframe thead th {\n        text-align: right;\n    }\n</style>\n<table border=\"1\" class=\"dataframe\">\n  <thead>\n    <tr style=\"text-align: right;\">\n      <th></th>\n      <th>stage_id</th>\n      <th>sale_id</th>\n      <th>customer_id</th>\n      <th>first_name</th>\n      <th>last_name</th>\n      <th>street</th>\n      <th>city</th>\n      <th>state</th>\n      <th>zip</th>\n    </tr>\n  </thead>\n  <tbody>\n    <tr>\n      <th>0</th>\n      <td>10</td>\n      <td>5763728768</td>\n      <td>3729016</td>\n      <td>Hyrum</td>\n      <td>Knuckles</td>\n      <td>86668 Spenser Terrace</td>\n      <td>Oakland</td>\n      <td>CA</td>\n      <td>94618</td>\n    </tr>\n    <tr>\n      <th>1</th>\n      <td>20</td>\n      <td>5763728877</td>\n      <td>3728936</td>\n      <td>Roseann</td>\n      <td>Coyish</td>\n      <td>11707 American Ash Ter</td>\n      <td>Orinda</td>\n      <td>CA</td>\n      <td>94563</td>\n    </tr>\n    <tr>\n      <th>2</th>\n      <td>24</td>\n      <td>5763728428</td>\n      <td>3729287</td>\n      <td>Hali</td>\n      <td>Ducker</td>\n      <td>8 Orion Pass</td>\n      <td>El Cerrito</td>\n      <td>CA</td>\n      <td>94530</td>\n    </tr>\n    <tr>\n      <th>3</th>\n      <td>26</td>\n      <td>5763728393</td>\n      <td>3728674</td>\n      <td>Melantha</td>\n      <td>Golborn</td>\n      <td>6140 North Field Alley</td>\n      <td>Orinda</td>\n      <td>CA</td>\n      <td>94563</td>\n    </tr>\n    <tr>\n      <th>4</th>\n      <td>36</td>\n      <td>5763729212</td>\n      <td>3729191</td>\n      <td>Eleni</td>\n      <td>Jansen</td>\n      <td>66 Bartelt Hill</td>\n      <td>Oakland</td>\n      <td>CA</td>\n      <td>94607</td>\n    </tr>\n    <tr>\n      <th>5</th>\n      <td>40</td>\n      <td>5763729129</td>\n      <td>3728856</td>\n      <td>Clyve</td>\n      <td>Humonds</td>\n      <td>22 Brent Wood Hill</td>\n      <td>Berkeley</td>\n      <td>CA</td>\n      <td>94709</td>\n    </tr>\n    <tr>\n      <th>6</th>\n      <td>51</td>\n      <td>5763728864</td>\n      <td>3729178</td>\n      <td>Rutledge</td>\n      <td>Hellwing</td>\n      <td>606 Gulf Plz</td>\n      <td>El Cerrito</td>\n      <td>CA</td>\n      <td>94530</td>\n    </tr>\n    <tr>\n      <th>7</th>\n      <td>60</td>\n      <td>5763729313</td>\n      <td>3728402</td>\n      <td>Kalli</td>\n      <td>Kemel</td>\n      <td>18373 Golf View Pass</td>\n      <td>Berkeley</td>\n      <td>CA</td>\n      <td>94702</td>\n    </tr>\n    <tr>\n      <th>8</th>\n      <td>72</td>\n      <td>5763728980</td>\n      <td>3729213</td>\n      <td>Honina</td>\n      <td>Philson</td>\n      <td>28 Clarendon Plaza</td>\n      <td>Berkeley</td>\n      <td>CA</td>\n      <td>94702</td>\n    </tr>\n    <tr>\n      <th>9</th>\n      <td>73</td>\n      <td>5763728921</td>\n      <td>3729194</td>\n      <td>Nicky</td>\n      <td>Haley</td>\n      <td>88424 Warrior Lane</td>\n      <td>Oakland</td>\n      <td>CA</td>\n      <td>94602</td>\n    </tr>\n    <tr>\n      <th>10</th>\n      <td>75</td>\n      <td>5763729280</td>\n      <td>3729104</td>\n      <td>I</td>\n      <td>Odunniom</td>\n      <td>4243 Sugar Park</td>\n      <td>Berkeley</td>\n      <td>CA</td>\n      <td>94702</td>\n    </tr>\n    <tr>\n      <th>11</th>\n      <td>78</td>\n      <td>5763728905</td>\n      <td>3729208</td>\n      <td>Clemens</td>\n      <td>McAloren</td>\n      <td>12532 Faragut Lane</td>\n      <td>Berkeley</td>\n      <td>CA</td>\n      <td>94704</td>\n    </tr>\n    <tr>\n      <th>12</th>\n      <td>97</td>\n      <td>5763728673</td>\n      <td>3728691</td>\n      <td>Eula</td>\n      <td>Dewair</td>\n      <td>3 Crownhardt Road</td>\n      <td>Albany</td>\n      <td>CA</td>\n      <td>94706</td>\n    </tr>\n  </tbody>\n</table>\n</div>",
            "text/plain": "    stage_id     sale_id customer_id first_name last_name  \\\n0         10  5763728768     3729016      Hyrum  Knuckles   \n1         20  5763728877     3728936    Roseann    Coyish   \n2         24  5763728428     3729287       Hali    Ducker   \n3         26  5763728393     3728674   Melantha   Golborn   \n4         36  5763729212     3729191      Eleni    Jansen   \n5         40  5763729129     3728856      Clyve   Humonds   \n6         51  5763728864     3729178   Rutledge  Hellwing   \n7         60  5763729313     3728402      Kalli     Kemel   \n8         72  5763728980     3729213     Honina   Philson   \n9         73  5763728921     3729194      Nicky     Haley   \n10        75  5763729280     3729104          I  Odunniom   \n11        78  5763728905     3729208    Clemens  McAloren   \n12        97  5763728673     3728691       Eula    Dewair   \n\n                    street        city state    zip  \n0    86668 Spenser Terrace     Oakland    CA  94618  \n1   11707 American Ash Ter      Orinda    CA  94563  \n2             8 Orion Pass  El Cerrito    CA  94530  \n3   6140 North Field Alley      Orinda    CA  94563  \n4          66 Bartelt Hill     Oakland    CA  94607  \n5       22 Brent Wood Hill    Berkeley    CA  94709  \n6             606 Gulf Plz  El Cerrito    CA  94530  \n7     18373 Golf View Pass    Berkeley    CA  94702  \n8       28 Clarendon Plaza    Berkeley    CA  94702  \n9       88424 Warrior Lane     Oakland    CA  94602  \n10         4243 Sugar Park    Berkeley    CA  94702  \n11      12532 Faragut Lane    Berkeley    CA  94704  \n12       3 Crownhardt Road      Albany    CA  94706  "
          },
          "metadata": {}
        }
      ],
      "execution_count": 11,
      "metadata": {},
      "id": "d11184db"
    },
    {
      "cell_type": "markdown",
      "source": [
        "# Find the percentage of Peak's customer records that do not match to AGM's customers table\n",
        "\n",
        "Write a query to find the percentage of Peak's customer records that do not match AGM's. The percentage can be found by taking the number of customer records in stage_1_peak_customers that do not match and dividing by the number of customers records in stage_1_peak_customers and multiplying by 100."
      ],
      "metadata": {},
      "id": "22282625"
    },
    {
      "cell_type": "code",
      "source": [
        "rollback_before_flag = True\n",
        "rollback_after_flag = True\n",
        "\n",
        "query = \"\"\"\n",
        "with tc as\n",
        "(select count(*) as total_peak_customers \n",
        "from stage_1_peak_customers),\n",
        "tm as\n",
        "(select count(*) as total_matching_customers \n",
        "from stage_1_peak_customers \n",
        "where (first_name, last_name, street) \n",
        "in (select first_name, last_name, street from customers)\n",
        "    )\n",
        "    \n",
        "\n",
        "\n",
        "select total_peak_customers, \n",
        "total_matching_customers, \n",
        "total_peak_customers-total_matching_customers as total_not_matching_customers,\n",
        "round(((total_peak_customers::numeric-total_matching_customers::numeric)*100)/total_peak_customers::numeric, 1) as percent_not_matching_customers\n",
        "\n",
        "from tc, tm\n",
        "\n",
        "\n",
        "\"\"\"\n",
        "\n",
        "my_select_query_pandas(query, rollback_before_flag, rollback_after_flag)"
      ],
      "outputs": [
        {
          "output_type": "execute_result",
          "execution_count": 78,
          "data": {
            "text/html": "<div>\n<style scoped>\n    .dataframe tbody tr th:only-of-type {\n        vertical-align: middle;\n    }\n\n    .dataframe tbody tr th {\n        vertical-align: top;\n    }\n\n    .dataframe thead th {\n        text-align: right;\n    }\n</style>\n<table border=\"1\" class=\"dataframe\">\n  <thead>\n    <tr style=\"text-align: right;\">\n      <th></th>\n      <th>total_peak_customers</th>\n      <th>total_matching_customers</th>\n      <th>total_not_matching_customers</th>\n      <th>percent_not_matching_customers</th>\n    </tr>\n  </thead>\n  <tbody>\n    <tr>\n      <th>0</th>\n      <td>97</td>\n      <td>84</td>\n      <td>13</td>\n      <td>13.4</td>\n    </tr>\n  </tbody>\n</table>\n</div>",
            "text/plain": "   total_peak_customers  total_matching_customers  \\\n0                    97                        84   \n\n   total_not_matching_customers  percent_not_matching_customers  \n0                            13                            13.4  "
          },
          "metadata": {}
        }
      ],
      "execution_count": 78,
      "metadata": {},
      "id": "46845793"
    },
    {
      "cell_type": "code",
      "source": [],
      "outputs": [],
      "execution_count": null,
      "metadata": {},
      "id": "b0c3ecd9"
    }
  ],
  "metadata": {
    "kernelspec": {
      "display_name": "Python 3 (ipykernel)",
      "language": "python",
      "name": "python3"
    },
    "language_info": {
      "codemirror_mode": {
        "name": "ipython",
        "version": 3
      },
      "file_extension": ".py",
      "mimetype": "text/x-python",
      "name": "python",
      "nbconvert_exporter": "python",
      "pygments_lexer": "ipython3",
      "version": "3.9.7"
    },
    "nteract": {
      "version": "0.28.0"
    }
  },
  "nbformat": 4,
  "nbformat_minor": 5
}