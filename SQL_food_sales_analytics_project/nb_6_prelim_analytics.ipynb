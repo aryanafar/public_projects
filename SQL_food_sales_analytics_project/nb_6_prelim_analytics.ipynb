{
  "cells": [
    {
      "cell_type": "markdown",
      "source": [
        "# Preliminary analytics"
      ],
      "metadata": {},
      "id": "3f465500"
    },
    {
      "cell_type": "code",
      "source": [
        "import csv\n",
        "\n",
        "import json\n",
        "\n",
        "import math\n",
        "import numpy as np\n",
        "import pandas as pd\n",
        "\n",
        "import psycopg2"
      ],
      "outputs": [],
      "execution_count": 1,
      "metadata": {},
      "id": "530d745a"
    },
    {
      "cell_type": "code",
      "source": [
        "#\n",
        "# function to run a select query and return rows in a pandas dataframe\n",
        "# pandas puts all numeric values from postgres to float\n",
        "# if it will fit in an integer, change it to integer\n",
        "#\n",
        "\n",
        "def my_select_query_pandas(query, rollback_before_flag, rollback_after_flag):\n",
        "    \"function to run a select query and return rows in a pandas dataframe\"\n",
        "    \n",
        "    if rollback_before_flag:\n",
        "        connection.rollback()\n",
        "    \n",
        "    df = pd.read_sql_query(query, connection)\n",
        "    \n",
        "    if rollback_after_flag:\n",
        "        connection.rollback()\n",
        "    \n",
        "    # fix the float columns that really should be integers\n",
        "    \n",
        "    for column in df:\n",
        "    \n",
        "        if df[column].dtype == \"float64\":\n",
        "\n",
        "            fraction_flag = False\n",
        "\n",
        "            for value in df[column].values:\n",
        "                \n",
        "                if not np.isnan(value):\n",
        "                    if value - math.floor(value) != 0:\n",
        "                        fraction_flag = True\n",
        "\n",
        "            if not fraction_flag:\n",
        "                df[column] = df[column].astype('Int64')\n",
        "    \n",
        "    return(df)\n",
        "    "
      ],
      "outputs": [],
      "execution_count": 2,
      "metadata": {},
      "id": "8e09ebb0"
    },
    {
      "cell_type": "code",
      "source": [
        "connection = psycopg2.connect(\n",
        "    user = \"postgres\",\n",
        "    password = \"ucb\",\n",
        "    host = \"postgres\",\n",
        "    port = \"5432\",\n",
        "    database = \"postgres\"\n",
        ")"
      ],
      "outputs": [],
      "execution_count": 3,
      "metadata": {},
      "id": "5d12068a"
    },
    {
      "cell_type": "code",
      "source": [
        "cursor = connection.cursor()"
      ],
      "outputs": [],
      "execution_count": 4,
      "metadata": {},
      "id": "b6e2080e"
    },
    {
      "cell_type": "markdown",
      "source": [
        "# Total dollar amount of sales\n",
        "\n",
        "Write a query to sum the total_amount in the stage_1_peak_sales table and present the sum in a Pandas dataframe."
      ],
      "metadata": {},
      "id": "d2e6beed"
    },
    {
      "cell_type": "code",
      "source": [
        "rollback_before_flag = True\n",
        "rollback_after_flag = True\n",
        "\n",
        "query = \"\"\"\n",
        "\n",
        "select sum(total_amount::numeric) as total_sales from stage_1_peak_sales\n",
        "\"\"\"\n",
        "\n",
        "my_select_query_pandas(query, rollback_before_flag, rollback_after_flag)"
      ],
      "outputs": [
        {
          "output_type": "execute_result",
          "execution_count": 5,
          "data": {
            "text/html": "<div>\n<style scoped>\n    .dataframe tbody tr th:only-of-type {\n        vertical-align: middle;\n    }\n\n    .dataframe tbody tr th {\n        vertical-align: top;\n    }\n\n    .dataframe thead th {\n        text-align: right;\n    }\n</style>\n<table border=\"1\" class=\"dataframe\">\n  <thead>\n    <tr style=\"text-align: right;\">\n      <th></th>\n      <th>total_sales</th>\n    </tr>\n  </thead>\n  <tbody>\n    <tr>\n      <th>0</th>\n      <td>6480</td>\n    </tr>\n  </tbody>\n</table>\n</div>",
            "text/plain": "   total_sales\n0         6480"
          },
          "metadata": {}
        }
      ],
      "execution_count": 5,
      "metadata": {},
      "id": "79f652c9"
    },
    {
      "cell_type": "markdown",
      "source": [
        "# Total number of sales\n",
        "\n",
        "Write a query to count the total number of sales in the stage_1_peak_sales table and present the sum in a Pandas dataframe.  Each record in the stage_1_peak_sales table is a sale."
      ],
      "metadata": {},
      "id": "4ae8ab94"
    },
    {
      "cell_type": "code",
      "source": [
        "rollback_before_flag = True\n",
        "rollback_after_flag = True\n",
        "\n",
        "query = \"\"\"\n",
        "\n",
        "select count(*) as total_number_of_sales\n",
        "from stage_1_peak_sales\n",
        "\n",
        "\"\"\"\n",
        "\n",
        "my_select_query_pandas(query, rollback_before_flag, rollback_after_flag)"
      ],
      "outputs": [
        {
          "output_type": "execute_result",
          "execution_count": 6,
          "data": {
            "text/html": "<div>\n<style scoped>\n    .dataframe tbody tr th:only-of-type {\n        vertical-align: middle;\n    }\n\n    .dataframe tbody tr th {\n        vertical-align: top;\n    }\n\n    .dataframe thead th {\n        text-align: right;\n    }\n</style>\n<table border=\"1\" class=\"dataframe\">\n  <thead>\n    <tr style=\"text-align: right;\">\n      <th></th>\n      <th>total_number_of_sales</th>\n    </tr>\n  </thead>\n  <tbody>\n    <tr>\n      <th>0</th>\n      <td>97</td>\n    </tr>\n  </tbody>\n</table>\n</div>",
            "text/plain": "   total_number_of_sales\n0                     97"
          },
          "metadata": {}
        }
      ],
      "execution_count": 6,
      "metadata": {},
      "id": "b6454084"
    },
    {
      "cell_type": "markdown",
      "source": [
        "# Total dollar amount of sales, total cut paid to Peak, net to AGM\n",
        "\n",
        "Write a query to calculate the total dollar amount of sales, the total cut paid to Peak, and the net to AGM."
      ],
      "metadata": {},
      "id": "da981c22"
    },
    {
      "cell_type": "code",
      "source": [
        "rollback_before_flag = True\n",
        "rollback_after_flag = True\n",
        "\n",
        "query = \"\"\"\n",
        "\n",
        "select sum(total_amount::numeric) as total_sales,\n",
        "0.18*sum(total_amount::numeric) as cut_paid_to_peak,\n",
        "0.82*sum(total_amount::numeric) net_to_agm\n",
        "from stage_1_peak_sales\n",
        "\n",
        "\"\"\"\n",
        "\n",
        "my_select_query_pandas(query, rollback_before_flag, rollback_after_flag)"
      ],
      "outputs": [
        {
          "output_type": "execute_result",
          "execution_count": 7,
          "data": {
            "text/html": "<div>\n<style scoped>\n    .dataframe tbody tr th:only-of-type {\n        vertical-align: middle;\n    }\n\n    .dataframe tbody tr th {\n        vertical-align: top;\n    }\n\n    .dataframe thead th {\n        text-align: right;\n    }\n</style>\n<table border=\"1\" class=\"dataframe\">\n  <thead>\n    <tr style=\"text-align: right;\">\n      <th></th>\n      <th>total_sales</th>\n      <th>cut_paid_to_peak</th>\n      <th>net_to_agm</th>\n    </tr>\n  </thead>\n  <tbody>\n    <tr>\n      <th>0</th>\n      <td>6480</td>\n      <td>1166.4</td>\n      <td>5313.6</td>\n    </tr>\n  </tbody>\n</table>\n</div>",
            "text/plain": "   total_sales  cut_paid_to_peak  net_to_agm\n0         6480            1166.4      5313.6"
          },
          "metadata": {}
        }
      ],
      "execution_count": 7,
      "metadata": {},
      "id": "bf54bd5a"
    },
    {
      "cell_type": "markdown",
      "source": [
        "# Total number of meals sold\n",
        "\n",
        "Write a query to sum the quantity in the stage_1_peak_line_items table and present the sum in a Pandas dataframe with appropriate column header name"
      ],
      "metadata": {},
      "id": "115bf249"
    },
    {
      "cell_type": "code",
      "source": [
        "rollback_before_flag = True\n",
        "rollback_after_flag = True\n",
        "\n",
        "query = \"\"\"\n",
        "\n",
        "select sum(quantity::numeric) as total_number_of_meals_sold from stage_1_peak_line_items\n",
        "\n",
        "\"\"\"\n",
        "\n",
        "my_select_query_pandas(query, rollback_before_flag, rollback_after_flag)"
      ],
      "outputs": [
        {
          "output_type": "execute_result",
          "execution_count": 8,
          "data": {
            "text/html": "<div>\n<style scoped>\n    .dataframe tbody tr th:only-of-type {\n        vertical-align: middle;\n    }\n\n    .dataframe tbody tr th {\n        vertical-align: top;\n    }\n\n    .dataframe thead th {\n        text-align: right;\n    }\n</style>\n<table border=\"1\" class=\"dataframe\">\n  <thead>\n    <tr style=\"text-align: right;\">\n      <th></th>\n      <th>total_number_of_meals_sold</th>\n    </tr>\n  </thead>\n  <tbody>\n    <tr>\n      <th>0</th>\n      <td>540</td>\n    </tr>\n  </tbody>\n</table>\n</div>",
            "text/plain": "   total_number_of_meals_sold\n0                         540"
          },
          "metadata": {}
        }
      ],
      "execution_count": 8,
      "metadata": {},
      "id": "c13a31a0"
    },
    {
      "cell_type": "markdown",
      "source": [
        "# Total number of meals sold by meal\n",
        "\n",
        "Expanding on the last query, group the sum of quantity by meal.  Display the meal followed by the number of meals sold."
      ],
      "metadata": {},
      "id": "1040af7a"
    },
    {
      "cell_type": "code",
      "source": [
        "rollback_before_flag = True\n",
        "rollback_after_flag = True\n",
        "\n",
        "query = \"\"\"\n",
        "\n",
        "select d.meal as meal, sum(c.quantity::numeric) as total_number_meals_sold\n",
        "from stage_1_peak_line_items as c\n",
        "left join\n",
        "(select b.description as meal, a.peak_product_id as peak_product_id\n",
        "from\n",
        "peak_product_mapping as a\n",
        "left join \n",
        "products as b\n",
        "on b.product_id = a.product_id) as d\n",
        "on d.peak_product_id = c.product_id::numeric\n",
        "group by meal\n",
        "order by total_number_meals_sold DESC\n",
        "\n",
        "\"\"\"\n",
        "\n",
        "my_select_query_pandas(query, rollback_before_flag, rollback_after_flag)"
      ],
      "outputs": [
        {
          "output_type": "execute_result",
          "execution_count": 33,
          "data": {
            "text/html": "<div>\n<style scoped>\n    .dataframe tbody tr th:only-of-type {\n        vertical-align: middle;\n    }\n\n    .dataframe tbody tr th {\n        vertical-align: top;\n    }\n\n    .dataframe thead th {\n        text-align: right;\n    }\n</style>\n<table border=\"1\" class=\"dataframe\">\n  <thead>\n    <tr style=\"text-align: right;\">\n      <th></th>\n      <th>meal</th>\n      <th>total_number_meals_sold</th>\n    </tr>\n  </thead>\n  <tbody>\n    <tr>\n      <th>0</th>\n      <td>Pistachio Salmon</td>\n      <td>113</td>\n    </tr>\n    <tr>\n      <th>1</th>\n      <td>Eggplant Lasagna</td>\n      <td>107</td>\n    </tr>\n    <tr>\n      <th>2</th>\n      <td>Curry Chicken</td>\n      <td>101</td>\n    </tr>\n    <tr>\n      <th>3</th>\n      <td>Teriyaki Chicken</td>\n      <td>80</td>\n    </tr>\n    <tr>\n      <th>4</th>\n      <td>Brocolli Stir Fry</td>\n      <td>60</td>\n    </tr>\n    <tr>\n      <th>5</th>\n      <td>Tilapia Piccata</td>\n      <td>44</td>\n    </tr>\n    <tr>\n      <th>6</th>\n      <td>Spinach Orzo</td>\n      <td>27</td>\n    </tr>\n    <tr>\n      <th>7</th>\n      <td>Chicken Salad</td>\n      <td>8</td>\n    </tr>\n  </tbody>\n</table>\n</div>",
            "text/plain": "                meal  total_number_meals_sold\n0   Pistachio Salmon                      113\n1   Eggplant Lasagna                      107\n2      Curry Chicken                      101\n3   Teriyaki Chicken                       80\n4  Brocolli Stir Fry                       60\n5    Tilapia Piccata                       44\n6       Spinach Orzo                       27\n7      Chicken Salad                        8"
          },
          "metadata": {}
        }
      ],
      "execution_count": 33,
      "metadata": {},
      "id": "a6269e92"
    },
    {
      "cell_type": "markdown",
      "source": [
        "# Average number of meals per sale\n",
        "\n",
        "Write a query to find the average number of meals per sale, which should be equal to the total number of meals sold divided by the total number of sales, both of which we have calculated before."
      ],
      "metadata": {},
      "id": "caa060da"
    },
    {
      "cell_type": "code",
      "source": [
        "rollback_before_flag = True\n",
        "rollback_after_flag = True\n",
        "\n",
        "query = \"\"\"\n",
        "\n",
        "WITH a AS (\n",
        "    SELECT SUM(quantity::numeric) AS total_number_of_meals_sold\n",
        "    FROM stage_1_peak_line_items\n",
        "),\n",
        "b AS (\n",
        "    SELECT COUNT(*) AS total_number_of_sales\n",
        "    FROM stage_1_peak_sales\n",
        ")\n",
        "\n",
        "SELECT round(a.total_number_of_meals_sold / b.total_number_of_sales, 1) AS average_meals_per_sale\n",
        "FROM a, b;\n",
        "\n",
        "\"\"\"\n",
        "\n",
        "my_select_query_pandas(query, rollback_before_flag, rollback_after_flag)"
      ],
      "outputs": [
        {
          "output_type": "execute_result",
          "execution_count": 36,
          "data": {
            "text/html": "<div>\n<style scoped>\n    .dataframe tbody tr th:only-of-type {\n        vertical-align: middle;\n    }\n\n    .dataframe tbody tr th {\n        vertical-align: top;\n    }\n\n    .dataframe thead th {\n        text-align: right;\n    }\n</style>\n<table border=\"1\" class=\"dataframe\">\n  <thead>\n    <tr style=\"text-align: right;\">\n      <th></th>\n      <th>average_meals_per_sale</th>\n    </tr>\n  </thead>\n  <tbody>\n    <tr>\n      <th>0</th>\n      <td>5.6</td>\n    </tr>\n  </tbody>\n</table>\n</div>",
            "text/plain": "   average_meals_per_sale\n0                     5.6"
          },
          "metadata": {}
        }
      ],
      "execution_count": 36,
      "metadata": {},
      "id": "22753f74"
    }
  ],
  "metadata": {
    "kernelspec": {
      "display_name": "Python 3 (ipykernel)",
      "language": "python",
      "name": "python3"
    },
    "language_info": {
      "codemirror_mode": {
        "name": "ipython",
        "version": 3
      },
      "file_extension": ".py",
      "mimetype": "text/x-python",
      "name": "python",
      "nbconvert_exporter": "python",
      "pygments_lexer": "ipython3",
      "version": "3.9.7"
    },
    "nteract": {
      "version": "0.28.0"
    }
  },
  "nbformat": 4,
  "nbformat_minor": 5
}