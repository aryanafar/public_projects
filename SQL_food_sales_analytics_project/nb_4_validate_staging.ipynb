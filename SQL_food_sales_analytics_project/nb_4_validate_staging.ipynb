{
  "cells": [
    {
      "cell_type": "markdown",
      "source": [
        "# Validate data in the staging tables using SQL\n"
      ],
      "metadata": {},
      "id": "3f465500"
    },
    {
      "cell_type": "code",
      "source": [
        "import csv\n",
        "\n",
        "import json\n",
        "\n",
        "import math\n",
        "import numpy as np\n",
        "import pandas as pd\n",
        "\n",
        "import psycopg2"
      ],
      "outputs": [],
      "execution_count": 1,
      "metadata": {},
      "id": "530d745a"
    },
    {
      "cell_type": "code",
      "source": [
        "#\n",
        "# function to run a select query and return rows in a pandas dataframe\n",
        "# pandas puts all numeric values from postgres to float\n",
        "# if it will fit in an integer, change it to integer\n",
        "#\n",
        "\n",
        "def my_select_query_pandas(query, rollback_before_flag, rollback_after_flag):\n",
        "    \"function to run a select query and return rows in a pandas dataframe\"\n",
        "    \n",
        "    if rollback_before_flag:\n",
        "        connection.rollback()\n",
        "    \n",
        "    df = pd.read_sql_query(query, connection)\n",
        "    \n",
        "    if rollback_after_flag:\n",
        "        connection.rollback()\n",
        "    \n",
        "    # fix the float columns that really should be integers\n",
        "    \n",
        "    for column in df:\n",
        "    \n",
        "        if df[column].dtype == \"float64\":\n",
        "\n",
        "            fraction_flag = False\n",
        "\n",
        "            for value in df[column].values:\n",
        "                \n",
        "                if not np.isnan(value):\n",
        "                    if value - math.floor(value) != 0:\n",
        "                        fraction_flag = True\n",
        "\n",
        "            if not fraction_flag:\n",
        "                df[column] = df[column].astype('Int64')\n",
        "    \n",
        "    return(df)\n",
        "    "
      ],
      "outputs": [],
      "execution_count": 2,
      "metadata": {},
      "id": "8e09ebb0"
    },
    {
      "cell_type": "code",
      "source": [
        "connection = psycopg2.connect(\n",
        "    user = \"postgres\",\n",
        "    host = \"postgres\",\n",
        "    port = \"5432\",\n",
        "    database = \"postgres\"\n",
        ")"
      ],
      "outputs": [],
      "execution_count": 3,
      "metadata": {},
      "id": "5d12068a"
    },
    {
      "cell_type": "code",
      "source": [
        "cursor = connection.cursor()"
      ],
      "outputs": [],
      "execution_count": 4,
      "metadata": {},
      "id": "b6e2080e"
    },
    {
      "cell_type": "markdown",
      "source": [
        "# Validate the data types in the staging table stage_1_peak_sales\n",
        "\n",
        "* sale_id - validate that is is numeric\n",
        "* sales_date - validate that it is a date\n",
        "* sub_total - validate that it is numeric\n",
        "* tax - validate that it is numeric\n",
        "* total_amount - validate that it is numeric"
      ],
      "metadata": {},
      "id": "d2e6beed"
    },
    {
      "cell_type": "code",
      "source": [
        "rollback_before_flag = True\n",
        "rollback_after_flag = True\n",
        "\n",
        "query = \"\"\"\n",
        "\n",
        "SELECT \n",
        "stage_id,\n",
        "sale_id::numeric,\n",
        "sale_date::date,\n",
        "sub_total::numeric,\n",
        "tax::numeric,\n",
        "total_amount::numeric\n",
        "FROM stage_1_peak_sales\n",
        "ORDER BY stage_id\n",
        "\"\"\"\n",
        "\n",
        "my_select_query_pandas(query, rollback_before_flag, rollback_after_flag)"
      ],
      "outputs": [
        {
          "output_type": "execute_result",
          "execution_count": 5,
          "data": {
            "text/html": "<div>\n<style scoped>\n    .dataframe tbody tr th:only-of-type {\n        vertical-align: middle;\n    }\n\n    .dataframe tbody tr th {\n        vertical-align: top;\n    }\n\n    .dataframe thead th {\n        text-align: right;\n    }\n</style>\n<table border=\"1\" class=\"dataframe\">\n  <thead>\n    <tr style=\"text-align: right;\">\n      <th></th>\n      <th>stage_id</th>\n      <th>sale_id</th>\n      <th>sale_date</th>\n      <th>sub_total</th>\n      <th>tax</th>\n      <th>total_amount</th>\n    </tr>\n  </thead>\n  <tbody>\n    <tr>\n      <th>0</th>\n      <td>1</td>\n      <td>5763728874</td>\n      <td>2020-10-03</td>\n      <td>12</td>\n      <td>0</td>\n      <td>12</td>\n    </tr>\n    <tr>\n      <th>1</th>\n      <td>2</td>\n      <td>5763729036</td>\n      <td>2020-10-03</td>\n      <td>72</td>\n      <td>0</td>\n      <td>72</td>\n    </tr>\n    <tr>\n      <th>2</th>\n      <td>3</td>\n      <td>5763728904</td>\n      <td>2020-10-03</td>\n      <td>24</td>\n      <td>0</td>\n      <td>24</td>\n    </tr>\n    <tr>\n      <th>3</th>\n      <td>4</td>\n      <td>5763728973</td>\n      <td>2020-10-03</td>\n      <td>96</td>\n      <td>0</td>\n      <td>96</td>\n    </tr>\n    <tr>\n      <th>4</th>\n      <td>5</td>\n      <td>5763728757</td>\n      <td>2020-10-03</td>\n      <td>108</td>\n      <td>0</td>\n      <td>108</td>\n    </tr>\n    <tr>\n      <th>...</th>\n      <td>...</td>\n      <td>...</td>\n      <td>...</td>\n      <td>...</td>\n      <td>...</td>\n      <td>...</td>\n    </tr>\n    <tr>\n      <th>92</th>\n      <td>93</td>\n      <td>5763728927</td>\n      <td>2020-10-03</td>\n      <td>72</td>\n      <td>0</td>\n      <td>72</td>\n    </tr>\n    <tr>\n      <th>93</th>\n      <td>94</td>\n      <td>5763729096</td>\n      <td>2020-10-03</td>\n      <td>48</td>\n      <td>0</td>\n      <td>48</td>\n    </tr>\n    <tr>\n      <th>94</th>\n      <td>95</td>\n      <td>5763729268</td>\n      <td>2020-10-03</td>\n      <td>84</td>\n      <td>0</td>\n      <td>84</td>\n    </tr>\n    <tr>\n      <th>95</th>\n      <td>96</td>\n      <td>5763729237</td>\n      <td>2020-10-03</td>\n      <td>60</td>\n      <td>0</td>\n      <td>60</td>\n    </tr>\n    <tr>\n      <th>96</th>\n      <td>97</td>\n      <td>5763728673</td>\n      <td>2020-10-03</td>\n      <td>48</td>\n      <td>0</td>\n      <td>48</td>\n    </tr>\n  </tbody>\n</table>\n<p>97 rows × 6 columns</p>\n</div>",
            "text/plain": "    stage_id     sale_id   sale_date  sub_total  tax  total_amount\n0          1  5763728874  2020-10-03         12    0            12\n1          2  5763729036  2020-10-03         72    0            72\n2          3  5763728904  2020-10-03         24    0            24\n3          4  5763728973  2020-10-03         96    0            96\n4          5  5763728757  2020-10-03        108    0           108\n..       ...         ...         ...        ...  ...           ...\n92        93  5763728927  2020-10-03         72    0            72\n93        94  5763729096  2020-10-03         48    0            48\n94        95  5763729268  2020-10-03         84    0            84\n95        96  5763729237  2020-10-03         60    0            60\n96        97  5763728673  2020-10-03         48    0            48\n\n[97 rows x 6 columns]"
          },
          "metadata": {}
        }
      ],
      "execution_count": 5,
      "metadata": {},
      "id": "79f652c9"
    },
    {
      "cell_type": "markdown",
      "source": [
        "# Validate the data types in the staging table stage_1_peak_stores\n",
        "\n",
        "* sale_id - validate that it is numeric\n",
        "* location_id - validate that it is numeric\n"
      ],
      "metadata": {},
      "id": "8684ea21"
    },
    {
      "cell_type": "code",
      "source": [
        "rollback_before_flag = True\n",
        "rollback_after_flag = True\n",
        "\n",
        "query = \"\"\"\n",
        "\n",
        "SELECT\n",
        "stage_id,\n",
        "sale_id::numeric,\n",
        "location_id::numeric\n",
        "FROM\n",
        "stage_1_peak_stores\n",
        "ORDER BY stage_id\n",
        "\n",
        "\"\"\"\n",
        "\n",
        "my_select_query_pandas(query, rollback_before_flag, rollback_after_flag)"
      ],
      "outputs": [
        {
          "output_type": "execute_result",
          "execution_count": 6,
          "data": {
            "text/html": "<div>\n<style scoped>\n    .dataframe tbody tr th:only-of-type {\n        vertical-align: middle;\n    }\n\n    .dataframe tbody tr th {\n        vertical-align: top;\n    }\n\n    .dataframe thead th {\n        text-align: right;\n    }\n</style>\n<table border=\"1\" class=\"dataframe\">\n  <thead>\n    <tr style=\"text-align: right;\">\n      <th></th>\n      <th>stage_id</th>\n      <th>sale_id</th>\n      <th>location_id</th>\n    </tr>\n  </thead>\n  <tbody>\n    <tr>\n      <th>0</th>\n      <td>1</td>\n      <td>5763728874</td>\n      <td>12573</td>\n    </tr>\n    <tr>\n      <th>1</th>\n      <td>2</td>\n      <td>5763729036</td>\n      <td>12573</td>\n    </tr>\n    <tr>\n      <th>2</th>\n      <td>3</td>\n      <td>5763728904</td>\n      <td>12573</td>\n    </tr>\n    <tr>\n      <th>3</th>\n      <td>4</td>\n      <td>5763728973</td>\n      <td>12573</td>\n    </tr>\n    <tr>\n      <th>4</th>\n      <td>5</td>\n      <td>5763728757</td>\n      <td>12573</td>\n    </tr>\n    <tr>\n      <th>...</th>\n      <td>...</td>\n      <td>...</td>\n      <td>...</td>\n    </tr>\n    <tr>\n      <th>92</th>\n      <td>93</td>\n      <td>5763728927</td>\n      <td>12573</td>\n    </tr>\n    <tr>\n      <th>93</th>\n      <td>94</td>\n      <td>5763729096</td>\n      <td>12573</td>\n    </tr>\n    <tr>\n      <th>94</th>\n      <td>95</td>\n      <td>5763729268</td>\n      <td>12573</td>\n    </tr>\n    <tr>\n      <th>95</th>\n      <td>96</td>\n      <td>5763729237</td>\n      <td>12573</td>\n    </tr>\n    <tr>\n      <th>96</th>\n      <td>97</td>\n      <td>5763728673</td>\n      <td>12573</td>\n    </tr>\n  </tbody>\n</table>\n<p>97 rows × 3 columns</p>\n</div>",
            "text/plain": "    stage_id     sale_id  location_id\n0          1  5763728874        12573\n1          2  5763729036        12573\n2          3  5763728904        12573\n3          4  5763728973        12573\n4          5  5763728757        12573\n..       ...         ...          ...\n92        93  5763728927        12573\n93        94  5763729096        12573\n94        95  5763729268        12573\n95        96  5763729237        12573\n96        97  5763728673        12573\n\n[97 rows x 3 columns]"
          },
          "metadata": {}
        }
      ],
      "execution_count": 6,
      "metadata": {},
      "id": "714b0ef1"
    },
    {
      "cell_type": "markdown",
      "source": [
        "# Validate the data types in the staging table stage_1_peak_customers\n",
        "\n",
        "* sale_id - validate that it is numeric\n",
        "* customer_id - validate that it is numeric"
      ],
      "metadata": {},
      "id": "34e7442e"
    },
    {
      "cell_type": "code",
      "source": [
        "rollback_before_flag = True\n",
        "rollback_after_flag = True\n",
        "\n",
        "query = \"\"\"\n",
        "\n",
        "SELECT\n",
        "stage_id,\n",
        "sale_id::numeric,\n",
        "customer_id::numeric\n",
        "FROM\n",
        "stage_1_peak_customers\n",
        "ORDER BY stage_id\n",
        "\n",
        "\n",
        "\"\"\"\n",
        "\n",
        "my_select_query_pandas(query, rollback_before_flag, rollback_after_flag)"
      ],
      "outputs": [
        {
          "output_type": "execute_result",
          "execution_count": 7,
          "data": {
            "text/html": "<div>\n<style scoped>\n    .dataframe tbody tr th:only-of-type {\n        vertical-align: middle;\n    }\n\n    .dataframe tbody tr th {\n        vertical-align: top;\n    }\n\n    .dataframe thead th {\n        text-align: right;\n    }\n</style>\n<table border=\"1\" class=\"dataframe\">\n  <thead>\n    <tr style=\"text-align: right;\">\n      <th></th>\n      <th>stage_id</th>\n      <th>sale_id</th>\n      <th>customer_id</th>\n    </tr>\n  </thead>\n  <tbody>\n    <tr>\n      <th>0</th>\n      <td>1</td>\n      <td>5763728874</td>\n      <td>3728404</td>\n    </tr>\n    <tr>\n      <th>1</th>\n      <td>2</td>\n      <td>5763729036</td>\n      <td>3729309</td>\n    </tr>\n    <tr>\n      <th>2</th>\n      <td>3</td>\n      <td>5763728904</td>\n      <td>3728508</td>\n    </tr>\n    <tr>\n      <th>3</th>\n      <td>4</td>\n      <td>5763728973</td>\n      <td>3728534</td>\n    </tr>\n    <tr>\n      <th>4</th>\n      <td>5</td>\n      <td>5763728757</td>\n      <td>3729188</td>\n    </tr>\n    <tr>\n      <th>...</th>\n      <td>...</td>\n      <td>...</td>\n      <td>...</td>\n    </tr>\n    <tr>\n      <th>92</th>\n      <td>93</td>\n      <td>5763728927</td>\n      <td>3728568</td>\n    </tr>\n    <tr>\n      <th>93</th>\n      <td>94</td>\n      <td>5763729096</td>\n      <td>3728990</td>\n    </tr>\n    <tr>\n      <th>94</th>\n      <td>95</td>\n      <td>5763729268</td>\n      <td>3728901</td>\n    </tr>\n    <tr>\n      <th>95</th>\n      <td>96</td>\n      <td>5763729237</td>\n      <td>3729019</td>\n    </tr>\n    <tr>\n      <th>96</th>\n      <td>97</td>\n      <td>5763728673</td>\n      <td>3728691</td>\n    </tr>\n  </tbody>\n</table>\n<p>97 rows × 3 columns</p>\n</div>",
            "text/plain": "    stage_id     sale_id  customer_id\n0          1  5763728874      3728404\n1          2  5763729036      3729309\n2          3  5763728904      3728508\n3          4  5763728973      3728534\n4          5  5763728757      3729188\n..       ...         ...          ...\n92        93  5763728927      3728568\n93        94  5763729096      3728990\n94        95  5763729268      3728901\n95        96  5763729237      3729019\n96        97  5763728673      3728691\n\n[97 rows x 3 columns]"
          },
          "metadata": {}
        }
      ],
      "execution_count": 7,
      "metadata": {},
      "id": "2bc021f9"
    },
    {
      "cell_type": "markdown",
      "source": [
        "# Validate the data types in the staging table stage_1_peak_line_items\n",
        "\n",
        "* sale_id - validate that it is numeric\n",
        "* line_item_id - validate that it is numeric\n",
        "* product_id - validate that it is numeric\n",
        "* price - validate that it is numeric\n",
        "* quantity - validate that it is numeric"
      ],
      "metadata": {},
      "id": "68af3a03"
    },
    {
      "cell_type": "code",
      "source": [
        "rollback_before_flag = True\n",
        "rollback_after_flag = True\n",
        "\n",
        "query = \"\"\"\n",
        "\n",
        "SELECT\n",
        "stage_id,\n",
        "sale_id::numeric,\n",
        "line_item_id::numeric,\n",
        "product_id::numeric,\n",
        "price::numeric,\n",
        "quantity::numeric\n",
        "FROM stage_1_peak_line_items\n",
        "ORDER BY stage_id\n",
        "\n",
        "\"\"\"\n",
        "\n",
        "my_select_query_pandas(query, rollback_before_flag, rollback_after_flag)"
      ],
      "outputs": [
        {
          "output_type": "execute_result",
          "execution_count": 8,
          "data": {
            "text/html": "<div>\n<style scoped>\n    .dataframe tbody tr th:only-of-type {\n        vertical-align: middle;\n    }\n\n    .dataframe tbody tr th {\n        vertical-align: top;\n    }\n\n    .dataframe thead th {\n        text-align: right;\n    }\n</style>\n<table border=\"1\" class=\"dataframe\">\n  <thead>\n    <tr style=\"text-align: right;\">\n      <th></th>\n      <th>stage_id</th>\n      <th>sale_id</th>\n      <th>line_item_id</th>\n      <th>product_id</th>\n      <th>price</th>\n      <th>quantity</th>\n    </tr>\n  </thead>\n  <tbody>\n    <tr>\n      <th>0</th>\n      <td>1</td>\n      <td>5763728874</td>\n      <td>1</td>\n      <td>42314680</td>\n      <td>12</td>\n      <td>1</td>\n    </tr>\n    <tr>\n      <th>1</th>\n      <td>2</td>\n      <td>5763729036</td>\n      <td>1</td>\n      <td>42314677</td>\n      <td>12</td>\n      <td>1</td>\n    </tr>\n    <tr>\n      <th>2</th>\n      <td>3</td>\n      <td>5763729036</td>\n      <td>2</td>\n      <td>42314682</td>\n      <td>12</td>\n      <td>3</td>\n    </tr>\n    <tr>\n      <th>3</th>\n      <td>4</td>\n      <td>5763729036</td>\n      <td>3</td>\n      <td>42314684</td>\n      <td>12</td>\n      <td>2</td>\n    </tr>\n    <tr>\n      <th>4</th>\n      <td>5</td>\n      <td>5763728904</td>\n      <td>1</td>\n      <td>42314680</td>\n      <td>12</td>\n      <td>1</td>\n    </tr>\n    <tr>\n      <th>...</th>\n      <td>...</td>\n      <td>...</td>\n      <td>...</td>\n      <td>...</td>\n      <td>...</td>\n      <td>...</td>\n    </tr>\n    <tr>\n      <th>347</th>\n      <td>348</td>\n      <td>5763729237</td>\n      <td>2</td>\n      <td>42314678</td>\n      <td>12</td>\n      <td>2</td>\n    </tr>\n    <tr>\n      <th>348</th>\n      <td>349</td>\n      <td>5763729237</td>\n      <td>3</td>\n      <td>42314682</td>\n      <td>12</td>\n      <td>2</td>\n    </tr>\n    <tr>\n      <th>349</th>\n      <td>350</td>\n      <td>5763728673</td>\n      <td>1</td>\n      <td>42314677</td>\n      <td>12</td>\n      <td>2</td>\n    </tr>\n    <tr>\n      <th>350</th>\n      <td>351</td>\n      <td>5763728673</td>\n      <td>2</td>\n      <td>42314678</td>\n      <td>12</td>\n      <td>1</td>\n    </tr>\n    <tr>\n      <th>351</th>\n      <td>352</td>\n      <td>5763728673</td>\n      <td>3</td>\n      <td>42314682</td>\n      <td>12</td>\n      <td>1</td>\n    </tr>\n  </tbody>\n</table>\n<p>352 rows × 6 columns</p>\n</div>",
            "text/plain": "     stage_id     sale_id  line_item_id  product_id  price  quantity\n0           1  5763728874             1    42314680     12         1\n1           2  5763729036             1    42314677     12         1\n2           3  5763729036             2    42314682     12         3\n3           4  5763729036             3    42314684     12         2\n4           5  5763728904             1    42314680     12         1\n..        ...         ...           ...         ...    ...       ...\n347       348  5763729237             2    42314678     12         2\n348       349  5763729237             3    42314682     12         2\n349       350  5763728673             1    42314677     12         2\n350       351  5763728673             2    42314678     12         1\n351       352  5763728673             3    42314682     12         1\n\n[352 rows x 6 columns]"
          },
          "metadata": {}
        }
      ],
      "execution_count": 8,
      "metadata": {},
      "id": "4eb0cbf8"
    },
    {
      "cell_type": "markdown",
      "source": [
        "# Validate the math on sub_total, tax, and total_amount in stage_1_peak_sales\n",
        "\n",
        "total_amount = sub_total + tax\n"
      ],
      "metadata": {},
      "id": "adee4f7e"
    },
    {
      "cell_type": "code",
      "source": [
        "rollback_before_flag = True\n",
        "rollback_after_flag = True\n",
        "\n",
        "query = \"\"\"\n",
        "\n",
        "select stage_id\n",
        "from stage_1_peak_sales\n",
        "where total_amount::numeric <> (sub_total::numeric + tax::numeric)\n",
        "ORDER BY stage_id\n",
        "\"\"\"\n",
        "\n",
        "my_select_query_pandas(query, rollback_before_flag, rollback_after_flag)"
      ],
      "outputs": [
        {
          "output_type": "execute_result",
          "execution_count": 9,
          "data": {
            "text/html": "<div>\n<style scoped>\n    .dataframe tbody tr th:only-of-type {\n        vertical-align: middle;\n    }\n\n    .dataframe tbody tr th {\n        vertical-align: top;\n    }\n\n    .dataframe thead th {\n        text-align: right;\n    }\n</style>\n<table border=\"1\" class=\"dataframe\">\n  <thead>\n    <tr style=\"text-align: right;\">\n      <th></th>\n      <th>stage_id</th>\n    </tr>\n  </thead>\n  <tbody>\n  </tbody>\n</table>\n</div>",
            "text/plain": "Empty DataFrame\nColumns: [stage_id]\nIndex: []"
          },
          "metadata": {}
        }
      ],
      "execution_count": 9,
      "metadata": {},
      "id": "5f686ba2"
    },
    {
      "cell_type": "markdown",
      "source": [
        "# Validate the math between stage_1_peak_sales and stage_1_peak_line_items\n",
        "\n",
        "total_sales in stage_1_peak_sales matches the sum of (price x quantity) in stage_1_peak_line_items\n"
      ],
      "metadata": {},
      "id": "31fb8def"
    },
    {
      "cell_type": "code",
      "source": [
        "rollback_before_flag = True\n",
        "rollback_after_flag = True\n",
        "\n",
        "query = \"\"\"\n",
        "\n",
        "select a.stage_id\n",
        "from stage_1_peak_sales as a\n",
        "where total_amount::numeric <> (select sum(quantity::numeric*price::numeric) \n",
        "                                from stage_1_peak_line_items as b  \n",
        "                                where a.sale_id = b.sale_id)\n",
        "ORDER BY stage_id\n",
        "\n",
        "\"\"\"\n",
        "\n",
        "my_select_query_pandas(query, rollback_before_flag, rollback_after_flag)"
      ],
      "outputs": [
        {
          "output_type": "execute_result",
          "execution_count": 10,
          "data": {
            "text/html": "<div>\n<style scoped>\n    .dataframe tbody tr th:only-of-type {\n        vertical-align: middle;\n    }\n\n    .dataframe tbody tr th {\n        vertical-align: top;\n    }\n\n    .dataframe thead th {\n        text-align: right;\n    }\n</style>\n<table border=\"1\" class=\"dataframe\">\n  <thead>\n    <tr style=\"text-align: right;\">\n      <th></th>\n      <th>stage_id</th>\n    </tr>\n  </thead>\n  <tbody>\n  </tbody>\n</table>\n</div>",
            "text/plain": "Empty DataFrame\nColumns: [stage_id]\nIndex: []"
          },
          "metadata": {}
        }
      ],
      "execution_count": 10,
      "metadata": {},
      "id": "7eac9797"
    },
    {
      "cell_type": "markdown",
      "source": [
        "# Validate the tax is always zero in stage_1_peak_sales"
      ],
      "metadata": {},
      "id": "9d1d44e4"
    },
    {
      "cell_type": "code",
      "source": [
        "rollback_before_flag = True\n",
        "rollback_after_flag = True\n",
        "\n",
        "query = \"\"\"\n",
        "\n",
        "select stage_id \n",
        "from stage_1_peak_sales\n",
        "where tax::numeric <> 0\n",
        "ORDER BY stage_id\n",
        "\"\"\"\n",
        "\n",
        "my_select_query_pandas(query, rollback_before_flag, rollback_after_flag)"
      ],
      "outputs": [
        {
          "output_type": "execute_result",
          "execution_count": 11,
          "data": {
            "text/html": "<div>\n<style scoped>\n    .dataframe tbody tr th:only-of-type {\n        vertical-align: middle;\n    }\n\n    .dataframe tbody tr th {\n        vertical-align: top;\n    }\n\n    .dataframe thead th {\n        text-align: right;\n    }\n</style>\n<table border=\"1\" class=\"dataframe\">\n  <thead>\n    <tr style=\"text-align: right;\">\n      <th></th>\n      <th>stage_id</th>\n    </tr>\n  </thead>\n  <tbody>\n  </tbody>\n</table>\n</div>",
            "text/plain": "Empty DataFrame\nColumns: [stage_id]\nIndex: []"
          },
          "metadata": {}
        }
      ],
      "execution_count": 11,
      "metadata": {},
      "id": "60c26bbb"
    },
    {
      "cell_type": "markdown",
      "source": [
        "# Validate the price is always 12 in stage_1_peak_line_items"
      ],
      "metadata": {},
      "id": "aa86c791"
    },
    {
      "cell_type": "code",
      "source": [
        "rollback_before_flag = True\n",
        "rollback_after_flag = True\n",
        "\n",
        "query = \"\"\"\n",
        "\n",
        "select stage_id\n",
        "from stage_1_peak_line_items\n",
        "where price::numeric <> 12\n",
        "ORDER BY stage_id\n",
        "\"\"\"\n",
        "\n",
        "my_select_query_pandas(query, rollback_before_flag, rollback_after_flag)"
      ],
      "outputs": [
        {
          "output_type": "execute_result",
          "execution_count": 12,
          "data": {
            "text/html": "<div>\n<style scoped>\n    .dataframe tbody tr th:only-of-type {\n        vertical-align: middle;\n    }\n\n    .dataframe tbody tr th {\n        vertical-align: top;\n    }\n\n    .dataframe thead th {\n        text-align: right;\n    }\n</style>\n<table border=\"1\" class=\"dataframe\">\n  <thead>\n    <tr style=\"text-align: right;\">\n      <th></th>\n      <th>stage_id</th>\n    </tr>\n  </thead>\n  <tbody>\n  </tbody>\n</table>\n</div>",
            "text/plain": "Empty DataFrame\nColumns: [stage_id]\nIndex: []"
          },
          "metadata": {}
        }
      ],
      "execution_count": 12,
      "metadata": {},
      "id": "80fdb546"
    },
    {
      "cell_type": "markdown",
      "source": [
        "# Validate taxable is always N in stage_1_peak_line_items"
      ],
      "metadata": {},
      "id": "715d03d9"
    },
    {
      "cell_type": "code",
      "source": [
        "rollback_before_flag = True\n",
        "rollback_after_flag = True\n",
        "\n",
        "query = \"\"\"\n",
        "\n",
        "select stage_id\n",
        "from stage_1_peak_line_items\n",
        "where taxable <> 'N'\n",
        "order by stage_id\n",
        "\n",
        "\n",
        "\"\"\"\n",
        "\n",
        "my_select_query_pandas(query, rollback_before_flag, rollback_after_flag)"
      ],
      "outputs": [
        {
          "output_type": "execute_result",
          "execution_count": 13,
          "data": {
            "text/html": "<div>\n<style scoped>\n    .dataframe tbody tr th:only-of-type {\n        vertical-align: middle;\n    }\n\n    .dataframe tbody tr th {\n        vertical-align: top;\n    }\n\n    .dataframe thead th {\n        text-align: right;\n    }\n</style>\n<table border=\"1\" class=\"dataframe\">\n  <thead>\n    <tr style=\"text-align: right;\">\n      <th></th>\n      <th>stage_id</th>\n    </tr>\n  </thead>\n  <tbody>\n  </tbody>\n</table>\n</div>",
            "text/plain": "Empty DataFrame\nColumns: [stage_id]\nIndex: []"
          },
          "metadata": {}
        }
      ],
      "execution_count": 13,
      "metadata": {},
      "id": "50508324"
    },
    {
      "cell_type": "markdown",
      "source": [
        "# Validate the store is the same for all in stage_1_peak_stores"
      ],
      "metadata": {},
      "id": "ecd6fccf"
    },
    {
      "cell_type": "code",
      "source": [
        "rollback_before_flag = True\n",
        "rollback_after_flag = True\n",
        "\n",
        "query = \"\"\"\n",
        "\n",
        "select ps.location_id, \n",
        "       ps.name,\n",
        "       ps.street,\n",
        "       ps.city,\n",
        "       ps.state,\n",
        "       ps.zip,\n",
        "       count(*) as number_of_duplicates\n",
        "from stage_1_peak_stores as ps\n",
        "group by ps.location_id, ps.name, ps.street, ps.city, ps.state, ps.zip\n",
        "having count(*) != (select count(*) from stage_1_peak_stores)\n",
        "\n",
        "\"\"\"\n",
        "\n",
        "my_select_query_pandas(query, rollback_before_flag, rollback_after_flag)"
      ],
      "outputs": [
        {
          "output_type": "execute_result",
          "execution_count": 14,
          "data": {
            "text/html": "<div>\n<style scoped>\n    .dataframe tbody tr th:only-of-type {\n        vertical-align: middle;\n    }\n\n    .dataframe tbody tr th {\n        vertical-align: top;\n    }\n\n    .dataframe thead th {\n        text-align: right;\n    }\n</style>\n<table border=\"1\" class=\"dataframe\">\n  <thead>\n    <tr style=\"text-align: right;\">\n      <th></th>\n      <th>location_id</th>\n      <th>name</th>\n      <th>street</th>\n      <th>city</th>\n      <th>state</th>\n      <th>zip</th>\n      <th>number_of_duplicates</th>\n    </tr>\n  </thead>\n  <tbody>\n  </tbody>\n</table>\n</div>",
            "text/plain": "Empty DataFrame\nColumns: [location_id, name, street, city, state, zip, number_of_duplicates]\nIndex: []"
          },
          "metadata": {}
        }
      ],
      "execution_count": 14,
      "metadata": {},
      "id": "7b831c0c"
    },
    {
      "cell_type": "markdown",
      "source": [
        "# Validate the product_id in stage_1_peak_line_items against peak_product_mapping"
      ],
      "metadata": {},
      "id": "7970462f"
    },
    {
      "cell_type": "code",
      "source": [
        "rollback_before_flag = True\n",
        "rollback_after_flag = True\n",
        "\n",
        "query = \"\"\"\n",
        "\n",
        "select stage_id\n",
        "from stage_1_peak_line_items\n",
        "where product_id::numeric in (select product_id::numeric from peak_product_mapping)\n",
        "order by stage_id\n",
        "\n",
        "\n",
        "\n",
        "\"\"\"\n",
        "\n",
        "my_select_query_pandas(query, rollback_before_flag, rollback_after_flag)"
      ],
      "outputs": [
        {
          "output_type": "execute_result",
          "execution_count": 15,
          "data": {
            "text/html": "<div>\n<style scoped>\n    .dataframe tbody tr th:only-of-type {\n        vertical-align: middle;\n    }\n\n    .dataframe tbody tr th {\n        vertical-align: top;\n    }\n\n    .dataframe thead th {\n        text-align: right;\n    }\n</style>\n<table border=\"1\" class=\"dataframe\">\n  <thead>\n    <tr style=\"text-align: right;\">\n      <th></th>\n      <th>stage_id</th>\n    </tr>\n  </thead>\n  <tbody>\n  </tbody>\n</table>\n</div>",
            "text/plain": "Empty DataFrame\nColumns: [stage_id]\nIndex: []"
          },
          "metadata": {}
        }
      ],
      "execution_count": 15,
      "metadata": {},
      "id": "1048856f"
    }
  ],
  "metadata": {
    "kernelspec": {
      "display_name": "Python 3 (ipykernel)",
      "language": "python",
      "name": "python3"
    },
    "language_info": {
      "codemirror_mode": {
        "name": "ipython",
        "version": 3
      },
      "file_extension": ".py",
      "mimetype": "text/x-python",
      "name": "python",
      "nbconvert_exporter": "python",
      "pygments_lexer": "ipython3",
      "version": "3.9.7"
    },
    "nteract": {
      "version": "0.28.0"
    }
  },
  "nbformat": 4,
  "nbformat_minor": 5
}